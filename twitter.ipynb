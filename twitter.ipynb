{
 "cells": [
  {
   "cell_type": "code",
   "execution_count": 89,
   "metadata": {},
   "outputs": [
    {
     "name": "stdout",
     "output_type": "stream",
     "text": [
      "10.10.10.10 - - [27/Sep/2016:05:22:00 +0000] \"GET /1.1/friendships/list.json?user_id=123 HTTP/1.1\" 500 563 19 \"Twitter-iPhone/6.63 iOS/10.0.2 (Apple;iPhone7,2;;;;;1)\" 177.177.177.177 10.10.10.10 - - [27/Sep/2016:05:22:08 +0000] \"GET /1.1/friendships/list.json?user_id=123 HTTP/1.1\" 200 563 19 \"Twitter-iPhone/6.63 iOS/10.0.2 (Apple;iPhone7,2;;;;;1)\" 177.177.177.177 10.10.10.10 - - [27/Sep/2016:05:22:31 +0000] \"GET /1.1/friendships/list.json HTTP/1.1\" 200 563 19 \"Twitter-iPhone/6.63 iOS/10.0.2 (Apple;iPhone7,2;;;;;1)\" 177.177.177.177 10.10.10.10 - - [27/Sep/2016:05:22:59 +0000] \"GET /1.1/friendships/list.json HTTP/1.1\" 200 94 6 \"Twitter-iPhone/6.63 iOS/10.0.1 (Apple;iPhone7,2;;;;;1)\" 177.177.177.177 10.10.10.10 - - [27/Sep/2016:05:23:01 +0000] \"GET /1.1/users/show.json?include_entities=1&user_id=321 HTTP/1.1\" 200 4160 51 \"Twitter-iPhone/6.63 iOS/9.3.5 (Apple;iPhone7,2;;;;;0)\" 177.177.177.177 10.10.10.10 - - [27/Sep/2016:22:45:33 +0000] \"GET /1.1/friendships/list.json?user_id=234 HTTP/1.1\" 200 563 19 \"Twitter-iPhone/6.63 iOS/10.0.2 (Apple;iPhone7,2;;;;;1)\" 177.177.177.177 10.10.10.10 - - [27/Sep/2016:22:45:51 +0000] \"POST /1.1/friendships/create.json HTTP/1.1\" 200 4193 120 \"Twitter-iPhone/6.62.1 iOS/9.3.5 (Apple;iPhone7,2;;;;;0)\" 177.177.177.177\n"
     ]
    }
   ],
   "source": [
    "inp = list(map(str, (input().split(' '))))"
   ]
  },
  {
   "cell_type": "code",
   "execution_count": 90,
   "metadata": {},
   "outputs": [
    {
     "data": {
      "text/plain": [
       "['10.10.10.10',\n",
       " '-',\n",
       " '-',\n",
       " '[27/Sep/2016:05:22:00',\n",
       " '+0000]',\n",
       " '\"GET',\n",
       " '/1.1/friendships/list.json?user_id=123',\n",
       " 'HTTP/1.1\"',\n",
       " '500',\n",
       " '563',\n",
       " '19',\n",
       " '\"Twitter-iPhone/6.63',\n",
       " 'iOS/10.0.2',\n",
       " '(Apple;iPhone7,2;;;;;1)\"',\n",
       " '177.177.177.177',\n",
       " '10.10.10.10',\n",
       " '-',\n",
       " '-',\n",
       " '[27/Sep/2016:05:22:08',\n",
       " '+0000]',\n",
       " '\"GET',\n",
       " '/1.1/friendships/list.json?user_id=123',\n",
       " 'HTTP/1.1\"',\n",
       " '200',\n",
       " '563',\n",
       " '19',\n",
       " '\"Twitter-iPhone/6.63',\n",
       " 'iOS/10.0.2',\n",
       " '(Apple;iPhone7,2;;;;;1)\"',\n",
       " '177.177.177.177',\n",
       " '10.10.10.10',\n",
       " '-',\n",
       " '-',\n",
       " '[27/Sep/2016:05:22:31',\n",
       " '+0000]',\n",
       " '\"GET',\n",
       " '/1.1/friendships/list.json',\n",
       " 'HTTP/1.1\"',\n",
       " '200',\n",
       " '563',\n",
       " '19',\n",
       " '\"Twitter-iPhone/6.63',\n",
       " 'iOS/10.0.2',\n",
       " '(Apple;iPhone7,2;;;;;1)\"',\n",
       " '177.177.177.177',\n",
       " '10.10.10.10',\n",
       " '-',\n",
       " '-',\n",
       " '[27/Sep/2016:05:22:59',\n",
       " '+0000]',\n",
       " '\"GET',\n",
       " '/1.1/friendships/list.json',\n",
       " 'HTTP/1.1\"',\n",
       " '200',\n",
       " '94',\n",
       " '6',\n",
       " '\"Twitter-iPhone/6.63',\n",
       " 'iOS/10.0.1',\n",
       " '(Apple;iPhone7,2;;;;;1)\"',\n",
       " '177.177.177.177',\n",
       " '10.10.10.10',\n",
       " '-',\n",
       " '-',\n",
       " '[27/Sep/2016:05:23:01',\n",
       " '+0000]',\n",
       " '\"GET',\n",
       " '/1.1/users/show.json?include_entities=1&user_id=321',\n",
       " 'HTTP/1.1\"',\n",
       " '200',\n",
       " '4160',\n",
       " '51',\n",
       " '\"Twitter-iPhone/6.63',\n",
       " 'iOS/9.3.5',\n",
       " '(Apple;iPhone7,2;;;;;0)\"',\n",
       " '177.177.177.177',\n",
       " '10.10.10.10',\n",
       " '-',\n",
       " '-',\n",
       " '[27/Sep/2016:22:45:33',\n",
       " '+0000]',\n",
       " '\"GET',\n",
       " '/1.1/friendships/list.json?user_id=234',\n",
       " 'HTTP/1.1\"',\n",
       " '200',\n",
       " '563',\n",
       " '19',\n",
       " '\"Twitter-iPhone/6.63',\n",
       " 'iOS/10.0.2',\n",
       " '(Apple;iPhone7,2;;;;;1)\"',\n",
       " '177.177.177.177',\n",
       " '10.10.10.10',\n",
       " '-',\n",
       " '-',\n",
       " '[27/Sep/2016:22:45:51',\n",
       " '+0000]',\n",
       " '\"POST',\n",
       " '/1.1/friendships/create.json',\n",
       " 'HTTP/1.1\"',\n",
       " '200',\n",
       " '4193',\n",
       " '120',\n",
       " '\"Twitter-iPhone/6.62.1',\n",
       " 'iOS/9.3.5',\n",
       " '(Apple;iPhone7,2;;;;;0)\"',\n",
       " '177.177.177.177']"
      ]
     },
     "execution_count": 90,
     "metadata": {},
     "output_type": "execute_result"
    }
   ],
   "source": [
    "inp"
   ]
  },
  {
   "cell_type": "code",
   "execution_count": 98,
   "metadata": {},
   "outputs": [
    {
     "name": "stdout",
     "output_type": "stream",
     "text": [
      "['10.10.10.10 - - [27/Sep/2016:05:22:00 +0000] \"GET /1.1/friendships/list.json?user_id=123 HTTP/1.1\" 500 563 19 \"Twitter-iPhone/6.63 iOS/10.0.2 (Apple;iPhone7,2;;;;;1)\" 177.177.177.177', '10.10.10.10 - - [27/Sep/2016:05:22:08 +0000] \"GET /1.1/friendships/list.json?user_id=123 HTTP/1.1\" 200 563 19 \"Twitter-iPhone/6.63 iOS/10.0.2 (Apple;iPhone7,2;;;;;1)\" 177.177.177.177', '10.10.10.10 - - [27/Sep/2016:05:22:31 +0000] \"GET /1.1/friendships/list.json HTTP/1.1\" 200 563 19 \"Twitter-iPhone/6.63 iOS/10.0.2 (Apple;iPhone7,2;;;;;1)\" 177.177.177.177', '10.10.10.10 - - [27/Sep/2016:05:22:59 +0000] \"GET /1.1/friendships/list.json HTTP/1.1\" 200 94 6 \"Twitter-iPhone/6.63 iOS/10.0.1 (Apple;iPhone7,2;;;;;1)\" 177.177.177.177', '10.10.10.10 - - [27/Sep/2016:05:23:01 +0000] \"GET /1.1/users/show.json?include_entities=1&user_id=321 HTTP/1.1\" 200 4160 51 \"Twitter-iPhone/6.63 iOS/9.3.5 (Apple;iPhone7,2;;;;;0)\" 177.177.177.177', '10.10.10.10 - - [27/Sep/2016:22:45:33 +0000] \"GET /1.1/friendships/list.json?user_id=234 HTTP/1.1\" 200 563 19 \"Twitter-iPhone/6.63 iOS/10.0.2 (Apple;iPhone7,2;;;;;1)\" 177.177.177.177', '10.10.10.10 - - [27/Sep/2016:22:45:51 +0000] \"POST /1.1/friendships/create.json HTTP/1.1\" 200 4193 120 \"Twitter-iPhone/6.62.1 iOS/9.3.5 (Apple;iPhone7,2;;;;;0)\" 177.177.177.177']\n"
     ]
    }
   ],
   "source": [
    "string = \"\"\n",
    "counter = 0\n",
    "content = []\n",
    "for i in inp:\n",
    "    if counter == 0:\n",
    "        string = i\n",
    "    else:\n",
    "        string = string + \" \" + i\n",
    "    counter = counter + 1\n",
    "    if counter == 15:\n",
    "        counter = 0\n",
    "        content.append(string)\n",
    "        string = \"\" \n",
    "print(content)"
   ]
  },
  {
   "cell_type": "code",
   "execution_count": 109,
   "metadata": {},
   "outputs": [
    {
     "name": "stdout",
     "output_type": "stream",
     "text": [
      "[['2016-09-27T05:22', '/1.1/friendships/list.json', '500'], ['2016-09-27T05:22', '/1.1/friendships/list.json', '200'], ['2016-09-27T05:22', '/1.1/friendships/list.json', '200'], ['2016-09-27T05:22', '/1.1/friendships/list.json', '200'], ['2016-09-27T05:23', '/1.1/users/show.json', '200'], ['2016-09-27T22:45', '/1.1/friendships/list.json', '200'], ['2016-09-27T22:45', '/1.1/friendships/create.json', '200']]\n"
     ]
    }
   ],
   "source": [
    "pack = []\n",
    "for i in content:\n",
    "    a=[]\n",
    "    a = list(map(str, (i.split(' '))))\n",
    "    time = a[3]\n",
    "    endpoint = a[6]\n",
    "    response = a[8]\n",
    "    time = time[1:18]\n",
    "    datetime_object = datetime.strptime(time, '%d/%b/%Y:%H:%M')\n",
    "    time = str(datetime_object.date()) + \"T\" + str(datetime_object.time())[:5]\n",
    "    endpoint = endpoint.split('json')\n",
    "    endpoint = endpoint[0]+\"json\"\n",
    "    data = [time, endpoint, response]\n",
    "    pack.append(data)\n",
    "print(pack)    "
   ]
  },
  {
   "cell_type": "code",
   "execution_count": 121,
   "metadata": {},
   "outputs": [
    {
     "name": "stdout",
     "output_type": "stream",
     "text": [
      "['/1.1/friendships/create.json', '/1.1/friendships/list.json', '/1.1/users/show.json']\n"
     ]
    }
   ],
   "source": [
    "link=[]\n",
    "for i in pack:\n",
    "        if i[1] not in link:\n",
    "            link.append(i[1])\n",
    "link.sort()\n",
    "print(link)"
   ]
  },
  {
   "cell_type": "code",
   "execution_count": 119,
   "metadata": {},
   "outputs": [
    {
     "name": "stdout",
     "output_type": "stream",
     "text": [
      "['2016-09-27T05:22', '2016-09-27T05:23', '2016-09-27T22:45']\n"
     ]
    }
   ],
   "source": [
    "timeList = []\n",
    "for i in pack:\n",
    "        if i[0] not in timeList:\n",
    "            timeList.append(i[0])\n",
    "timeList.sort()\n",
    "print(timeList)"
   ]
  },
  {
   "cell_type": "code",
   "execution_count": 122,
   "metadata": {},
   "outputs": [
    {
     "name": "stdout",
     "output_type": "stream",
     "text": [
      "2016-09-27T05:22 /1.1/friendships/list.json 75.0\n",
      "2016-09-27T05:23 /1.1/users/show.json 100.0\n",
      "2016-09-27T22:45 /1.1/friendships/create.json 100.0\n",
      "2016-09-27T22:45 /1.1/friendships/list.json 100.0\n"
     ]
    }
   ],
   "source": [
    "n=0\n",
    "d=0\n",
    "percent = -10\n",
    "for t in timeList:    \n",
    "    for l in link:    \n",
    "        for p in pack:\n",
    "            if ((l == p[1]) & (t == p[0]) & (p[2] != \"500\")):\n",
    "                n = n+1\n",
    "            if ((l==p[1]) & (t == p[0])):\n",
    "                d = d+1\n",
    "        if (d!=0):\n",
    "            percent = n/d*100\n",
    "        n = 0\n",
    "        d = 0\n",
    "        if percent >= 0:\n",
    "            print( t + \" \" + l + \" \" + str(percent))\n",
    "            percent = -10"
   ]
  },
  {
   "cell_type": "code",
   "execution_count": null,
   "metadata": {
    "collapsed": true
   },
   "outputs": [],
   "source": []
  }
 ],
 "metadata": {
  "kernelspec": {
   "display_name": "Python 3",
   "language": "python",
   "name": "python3"
  },
  "language_info": {
   "codemirror_mode": {
    "name": "ipython",
    "version": 3
   },
   "file_extension": ".py",
   "mimetype": "text/x-python",
   "name": "python",
   "nbconvert_exporter": "python",
   "pygments_lexer": "ipython3",
   "version": "3.6.3"
  }
 },
 "nbformat": 4,
 "nbformat_minor": 2
}
