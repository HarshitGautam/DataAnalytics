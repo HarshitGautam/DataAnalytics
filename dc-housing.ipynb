{
 "cells": [
  {
   "cell_type": "code",
   "execution_count": 1,
   "metadata": {},
   "outputs": [
    {
     "name": "stdout",
     "output_type": "stream",
     "text": [
      "Populating the interactive namespace from numpy and matplotlib\n"
     ]
    }
   ],
   "source": [
    "# Enable Pylab mode\n",
    "%pylab inline"
   ]
  },
  {
   "cell_type": "code",
   "execution_count": 2,
   "metadata": {},
   "outputs": [],
   "source": [
    "# Import pandas, SciPy, and Seaborn\n",
    "import pandas as pd\n",
    "import scipy\n",
    "import seaborn as sns"
   ]
  },
  {
   "cell_type": "code",
   "execution_count": 3,
   "metadata": {
    "collapsed": true
   },
   "outputs": [],
   "source": [
    "# Define fixed input parameters\n",
    "pct_reduction = 0.01"
   ]
  },
  {
   "cell_type": "code",
   "execution_count": 4,
   "metadata": {
    "collapsed": true
   },
   "outputs": [],
   "source": [
    "# Specify decision variable\n",
    "sqft = 2500"
   ]
  },
  {
   "cell_type": "code",
   "execution_count": 5,
   "metadata": {
    "collapsed": true
   },
   "outputs": [],
   "source": [
    "# Specify number of simulation replications\n",
    "n = 1000"
   ]
  },
  {
   "cell_type": "code",
   "execution_count": 6,
   "metadata": {},
   "outputs": [],
   "source": [
    "# Generate random variates for random inputs\n",
    "constr_costs_per_sqft = np.random.triangular(135,155,185,n)\n",
    "time_to_sell = np.random.choice(np.arange(13), size=n, p=np.array([0,0.16,0.22,0.18,0.11,0.08,0.06,0.05,0.05,0.03,0.03,0.02,0.01]))\n",
    "pct_off_asking = np.random.triangular(0,0.04,0.10,n)"
   ]
  },
  {
   "cell_type": "code",
   "execution_count": 7,
   "metadata": {},
   "outputs": [],
   "source": [
    "# Calculate total construction costs\n",
    "constr_costs = constr_costs_per_sqft * sqft"
   ]
  },
  {
   "cell_type": "code",
   "execution_count": 8,
   "metadata": {
    "collapsed": true
   },
   "outputs": [],
   "source": [
    "# Calculate selling price\n",
    "initial_asking_price = (280 - 0.02 * sqft) * sqft\n",
    "asking_price_at_sale = initial_asking_price * (1 - time_to_sell * pct_reduction)\n",
    "sale_price = asking_price_at_sale * (1 - pct_off_asking)"
   ]
  },
  {
   "cell_type": "code",
   "execution_count": 9,
   "metadata": {},
   "outputs": [],
   "source": [
    "# Calculate profit\n",
    "profit = sale_price - constr_costs"
   ]
  },
  {
   "cell_type": "code",
   "execution_count": 10,
   "metadata": {},
   "outputs": [
    {
     "data": {
      "text/plain": [
       "DescribeResult(nobs=1000L, minmax=(46161.385503588186, 206736.57537278713), mean=130300.54783863174, variance=996343822.21571028, skewness=-0.21439044957400552, kurtosis=-0.38179084494143245)"
      ]
     },
     "execution_count": 10,
     "metadata": {},
     "output_type": "execute_result"
    }
   ],
   "source": [
    "# Summarize profit\n",
    "scipy.stats.describe(profit)"
   ]
  },
  {
   "cell_type": "code",
   "execution_count": 11,
   "metadata": {},
   "outputs": [
    {
     "data": {
      "text/plain": [
       "<matplotlib.text.Text at 0xa53f438>"
      ]
     },
     "execution_count": 11,
     "metadata": {},
     "output_type": "execute_result"
    },
    {
     "data": {
      "image/png": "[encoded data removed]",
      "text/plain": [
       "<matplotlib.figure.Figure at 0xa4fa668>"
      ]
     },
     "metadata": {},
     "output_type": "display_data"
    }
   ],
   "source": [
    "# Visualize distribution of profit\n",
    "sns.set_style('whitegrid')\n",
    "plt.figure(figsize=(12,6))\n",
    "plt.hist(profit, bins=30, color='0.25')\n",
    "plt.xlabel('Profit')\n",
    "plt.ylabel('Frequency')"
   ]
  },
  {
   "cell_type": "code",
   "execution_count": 12,
   "metadata": {},
   "outputs": [
    {
     "data": {
      "text/plain": [
       "array([2000, 2100, 2200, 2300, 2400, 2500, 2600, 2700, 2800, 2900, 3000])"
      ]
     },
     "execution_count": 12,
     "metadata": {},
     "output_type": "execute_result"
    }
   ],
   "source": [
    "# Explore range of house sizes\n",
    "sizes = np.arange(2000,3100,100)\n",
    "sizes"
   ]
  },
  {
   "cell_type": "code",
   "execution_count": 13,
   "metadata": {
    "collapsed": true
   },
   "outputs": [],
   "source": [
    "# Initialize dictionary to store results\n",
    "R = {}\n",
    "R['mean'] = []\n",
    "R['stdev'] = []\n",
    "R['min'] = []\n",
    "R['max'] = []\n",
    "R['P > $50K'] = []"
   ]
  },
  {
   "cell_type": "code",
   "execution_count": 14,
   "metadata": {},
   "outputs": [],
   "source": [
    "# Run simulation for each house size, using the same random variates\n",
    "for sz in sizes:\n",
    "    # Calculate total construction costs\n",
    "    temp_constr_costs = constr_costs_per_sqft * sz\n",
    "    \n",
    "    # Calculate selling price\n",
    "    temp_initial_asking_price = (280 - 0.02 * sz) * sz\n",
    "    temp_asking_price_at_sale = temp_initial_asking_price * (1 - time_to_sell * pct_reduction)\n",
    "    temp_sale_price = temp_asking_price_at_sale * (1 - pct_off_asking)\n",
    "    \n",
    "    # Calculate profit\n",
    "    temp_profit = temp_sale_price - temp_constr_costs\n",
    "    \n",
    "    # Record results\n",
    "    R['mean'].append(np.mean(temp_profit))\n",
    "    R['stdev'].append(np.std(temp_profit))\n",
    "    R['min'].append(np.min(temp_profit))\n",
    "    R['max'].append(np.max(temp_profit))\n",
    "    R['P > $50K'].append(np.sum(temp_profit > 50000) / float(n))"
   ]
  },
  {
   "cell_type": "code",
   "execution_count": 15,
   "metadata": {},
   "outputs": [
    {
     "data": {
      "text/html": [
       "<div>\n",
       "<table border=\"1\" class=\"dataframe\">\n",
       "  <thead>\n",
       "    <tr style=\"text-align: right;\">\n",
       "      <th></th>\n",
       "      <th>mean</th>\n",
       "      <th>stdev</th>\n",
       "      <th>min</th>\n",
       "      <th>max</th>\n",
       "      <th>P &gt; $50K</th>\n",
       "    </tr>\n",
       "  </thead>\n",
       "  <tbody>\n",
       "    <tr>\n",
       "      <th>2000</th>\n",
       "      <td>122556.273902</td>\n",
       "      <td>25638.706383</td>\n",
       "      <td>53737.602131</td>\n",
       "      <td>184467.648255</td>\n",
       "      <td>1.000</td>\n",
       "    </tr>\n",
       "    <tr>\n",
       "      <th>2100</th>\n",
       "      <td>124837.762114</td>\n",
       "      <td>26835.892798</td>\n",
       "      <td>52894.698555</td>\n",
       "      <td>189684.569197</td>\n",
       "      <td>1.000</td>\n",
       "    </tr>\n",
       "    <tr>\n",
       "      <th>2200</th>\n",
       "      <td>126752.933614</td>\n",
       "      <td>28025.461418</td>\n",
       "      <td>51715.625104</td>\n",
       "      <td>194519.922380</td>\n",
       "      <td>1.000</td>\n",
       "    </tr>\n",
       "    <tr>\n",
       "      <th>2300</th>\n",
       "      <td>128301.788402</td>\n",
       "      <td>29207.478583</td>\n",
       "      <td>50200.381778</td>\n",
       "      <td>198973.707803</td>\n",
       "      <td>1.000</td>\n",
       "    </tr>\n",
       "    <tr>\n",
       "      <th>2400</th>\n",
       "      <td>129484.326476</td>\n",
       "      <td>30382.011454</td>\n",
       "      <td>48348.968578</td>\n",
       "      <td>203045.925468</td>\n",
       "      <td>0.998</td>\n",
       "    </tr>\n",
       "    <tr>\n",
       "      <th>2500</th>\n",
       "      <td>130300.547839</td>\n",
       "      <td>31549.128013</td>\n",
       "      <td>46161.385504</td>\n",
       "      <td>206736.575373</td>\n",
       "      <td>0.997</td>\n",
       "    </tr>\n",
       "    <tr>\n",
       "      <th>2600</th>\n",
       "      <td>130750.452488</td>\n",
       "      <td>32708.897074</td>\n",
       "      <td>43637.632554</td>\n",
       "      <td>210045.657519</td>\n",
       "      <td>0.995</td>\n",
       "    </tr>\n",
       "    <tr>\n",
       "      <th>2700</th>\n",
       "      <td>130834.040425</td>\n",
       "      <td>33861.388288</td>\n",
       "      <td>40777.709730</td>\n",
       "      <td>212973.171906</td>\n",
       "      <td>0.990</td>\n",
       "    </tr>\n",
       "    <tr>\n",
       "      <th>2800</th>\n",
       "      <td>130551.311650</td>\n",
       "      <td>35006.672150</td>\n",
       "      <td>37581.617032</td>\n",
       "      <td>215519.118534</td>\n",
       "      <td>0.987</td>\n",
       "    </tr>\n",
       "    <tr>\n",
       "      <th>2900</th>\n",
       "      <td>129902.266161</td>\n",
       "      <td>36144.820008</td>\n",
       "      <td>34049.354459</td>\n",
       "      <td>217683.497402</td>\n",
       "      <td>0.980</td>\n",
       "    </tr>\n",
       "    <tr>\n",
       "      <th>3000</th>\n",
       "      <td>128886.903960</td>\n",
       "      <td>37275.904066</td>\n",
       "      <td>30180.922012</td>\n",
       "      <td>219466.308512</td>\n",
       "      <td>0.975</td>\n",
       "    </tr>\n",
       "  </tbody>\n",
       "</table>\n",
       "</div>"
      ],
      "text/plain": [
       "               mean         stdev           min            max  P > $50K\n",
       "2000  122556.273902  25638.706383  53737.602131  184467.648255     1.000\n",
       "2100  124837.762114  26835.892798  52894.698555  189684.569197     1.000\n",
       "2200  126752.933614  28025.461418  51715.625104  194519.922380     1.000\n",
       "2300  128301.788402  29207.478583  50200.381778  198973.707803     1.000\n",
       "2400  129484.326476  30382.011454  48348.968578  203045.925468     0.998\n",
       "2500  130300.547839  31549.128013  46161.385504  206736.575373     0.997\n",
       "2600  130750.452488  32708.897074  43637.632554  210045.657519     0.995\n",
       "2700  130834.040425  33861.388288  40777.709730  212973.171906     0.990\n",
       "2800  130551.311650  35006.672150  37581.617032  215519.118534     0.987\n",
       "2900  129902.266161  36144.820008  34049.354459  217683.497402     0.980\n",
       "3000  128886.903960  37275.904066  30180.922012  219466.308512     0.975"
      ]
     },
     "execution_count": 15,
     "metadata": {},
     "output_type": "execute_result"
    }
   ],
   "source": [
    "# Output results\n",
    "rdf = pd.DataFrame(R, index=sizes, columns=['mean', 'stdev', 'min', 'max', 'P > $50K'])\n",
    "rdf"
   ]
  },
  {
   "cell_type": "code",
   "execution_count": 16,
   "metadata": {},
   "outputs": [
    {
     "data": {
      "text/plain": [
       "<matplotlib.text.Text at 0xa4fa358>"
      ]
     },
     "execution_count": 16,
     "metadata": {},
     "output_type": "execute_result"
    },
    {
     "data": {
      "image/png": "[encoded data removed]",
      "text/plain": [
       "<matplotlib.figure.Figure at 0xbc819b0>"
      ]
     },
     "metadata": {},
     "output_type": "display_data"
    }
   ],
   "source": [
    "# Visualize mean profit as a function of house size\n",
    "rdf['mean'].plot(kind='line', color='0.25', figsize=(8,6))\n",
    "plt.xlabel('House Size (Sqft)')\n",
    "plt.ylabel('Mean Profit')"
   ]
  },
  {
   "cell_type": "code",
   "execution_count": null,
   "metadata": {
    "collapsed": true
   },
   "outputs": [],
   "source": []
  }
 ],
 "metadata": {
  "anaconda-cloud": {},
  "kernelspec": {
   "display_name": "Python 3",
   "language": "python",
   "name": "python3"
  },
  "language_info": {
   "codemirror_mode": {
    "name": "ipython",
    "version": 3
   },
   "file_extension": ".py",
   "mimetype": "text/x-python",
   "name": "python",
   "nbconvert_exporter": "python",
   "pygments_lexer": "ipython3",
   "version": "3.6.3"
  }
 },
 "nbformat": 4,
 "nbformat_minor": 1
}
