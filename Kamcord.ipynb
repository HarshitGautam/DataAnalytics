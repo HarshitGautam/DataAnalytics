{
 "cells": [
  {
   "cell_type": "code",
   "execution_count": 1,
   "metadata": {
    "collapsed": true
   },
   "outputs": [],
   "source": [
    "import pandas as pd"
   ]
  },
  {
   "cell_type": "markdown",
   "metadata": {},
   "source": [
    "# Importing Data file"
   ]
  },
  {
   "cell_type": "code",
   "execution_count": 2,
   "metadata": {
    "collapsed": true
   },
   "outputs": [],
   "source": [
    "df = pd.read_csv('C:/Users/hgsgautam/Desktop/Companies/Kamcord/kamcord_data/kamcord_data.csv')"
   ]
  },
  {
   "cell_type": "code",
   "execution_count": 3,
   "metadata": {},
   "outputs": [
    {
     "data": {
      "text/html": [
       "<div>\n",
       "<table border=\"1\" class=\"dataframe\">\n",
       "  <thead>\n",
       "    <tr style=\"text-align: right;\">\n",
       "      <th></th>\n",
       "      <th>Unnamed: 0</th>\n",
       "      <th>user_id</th>\n",
       "      <th>event_name</th>\n",
       "      <th>event_time</th>\n",
       "      <th>os_name</th>\n",
       "      <th>app_version</th>\n",
       "    </tr>\n",
       "  </thead>\n",
       "  <tbody>\n",
       "    <tr>\n",
       "      <th>0</th>\n",
       "      <td>0</td>\n",
       "      <td>5be921e9-e2bd-47ac-b1c8-94f7289324a2</td>\n",
       "      <td>APP_CLOSED</td>\n",
       "      <td>2016-09-18 03:06:25</td>\n",
       "      <td>android</td>\n",
       "      <td>2.5.1</td>\n",
       "    </tr>\n",
       "    <tr>\n",
       "      <th>1</th>\n",
       "      <td>1</td>\n",
       "      <td>24f3d080-06b3-4053-b1c0-c1f4e40455d5</td>\n",
       "      <td>APP_CLOSED</td>\n",
       "      <td>2016-09-05 19:12:19</td>\n",
       "      <td>ios</td>\n",
       "      <td>6.4.1</td>\n",
       "    </tr>\n",
       "    <tr>\n",
       "      <th>2</th>\n",
       "      <td>2</td>\n",
       "      <td>75dcab40-4a22-41f6-a954-bc859fb6721f</td>\n",
       "      <td>APP_CLOSED</td>\n",
       "      <td>2016-09-18 11:08:18</td>\n",
       "      <td>android</td>\n",
       "      <td>2.5.1</td>\n",
       "    </tr>\n",
       "    <tr>\n",
       "      <th>3</th>\n",
       "      <td>3</td>\n",
       "      <td>8f611b4f-40ad-4a51-b965-1312e72aa23d</td>\n",
       "      <td>APP_OPEN</td>\n",
       "      <td>2016-10-25 16:39:30</td>\n",
       "      <td>ios</td>\n",
       "      <td>6.6.0</td>\n",
       "    </tr>\n",
       "    <tr>\n",
       "      <th>4</th>\n",
       "      <td>4</td>\n",
       "      <td>acbd5423-6a84-4a41-b520-faf7e078b14c</td>\n",
       "      <td>APP_CLOSED</td>\n",
       "      <td>2016-09-18 11:24:28</td>\n",
       "      <td>ios</td>\n",
       "      <td>6.4.1</td>\n",
       "    </tr>\n",
       "  </tbody>\n",
       "</table>\n",
       "</div>"
      ],
      "text/plain": [
       "   Unnamed: 0                               user_id  event_name  \\\n",
       "0           0  5be921e9-e2bd-47ac-b1c8-94f7289324a2  APP_CLOSED   \n",
       "1           1  24f3d080-06b3-4053-b1c0-c1f4e40455d5  APP_CLOSED   \n",
       "2           2  75dcab40-4a22-41f6-a954-bc859fb6721f  APP_CLOSED   \n",
       "3           3  8f611b4f-40ad-4a51-b965-1312e72aa23d    APP_OPEN   \n",
       "4           4  acbd5423-6a84-4a41-b520-faf7e078b14c  APP_CLOSED   \n",
       "\n",
       "            event_time  os_name app_version  \n",
       "0  2016-09-18 03:06:25  android       2.5.1  \n",
       "1  2016-09-05 19:12:19      ios       6.4.1  \n",
       "2  2016-09-18 11:08:18  android       2.5.1  \n",
       "3  2016-10-25 16:39:30      ios       6.6.0  \n",
       "4  2016-09-18 11:24:28      ios       6.4.1  "
      ]
     },
     "execution_count": 3,
     "metadata": {},
     "output_type": "execute_result"
    }
   ],
   "source": [
    "df.head(5)"
   ]
  },
  {
   "cell_type": "markdown",
   "metadata": {},
   "source": [
    "### Extracting event_date out of event_time"
   ]
  },
  {
   "cell_type": "code",
   "execution_count": 4,
   "metadata": {},
   "outputs": [],
   "source": [
    "event_date =[]\n",
    "for t in df.event_time:\n",
    "    event_date.append(str(t[:10]))\n",
    "df['event_date'] = event_date"
   ]
  },
  {
   "cell_type": "code",
   "execution_count": 5,
   "metadata": {},
   "outputs": [
    {
     "data": {
      "text/html": [
       "<div>\n",
       "<table border=\"1\" class=\"dataframe\">\n",
       "  <thead>\n",
       "    <tr style=\"text-align: right;\">\n",
       "      <th></th>\n",
       "      <th>Unnamed: 0</th>\n",
       "      <th>user_id</th>\n",
       "      <th>event_name</th>\n",
       "      <th>event_time</th>\n",
       "      <th>os_name</th>\n",
       "      <th>app_version</th>\n",
       "      <th>event_date</th>\n",
       "    </tr>\n",
       "  </thead>\n",
       "  <tbody>\n",
       "    <tr>\n",
       "      <th>0</th>\n",
       "      <td>0</td>\n",
       "      <td>5be921e9-e2bd-47ac-b1c8-94f7289324a2</td>\n",
       "      <td>APP_CLOSED</td>\n",
       "      <td>2016-09-18 03:06:25</td>\n",
       "      <td>android</td>\n",
       "      <td>2.5.1</td>\n",
       "      <td>2016-09-18</td>\n",
       "    </tr>\n",
       "    <tr>\n",
       "      <th>1</th>\n",
       "      <td>1</td>\n",
       "      <td>24f3d080-06b3-4053-b1c0-c1f4e40455d5</td>\n",
       "      <td>APP_CLOSED</td>\n",
       "      <td>2016-09-05 19:12:19</td>\n",
       "      <td>ios</td>\n",
       "      <td>6.4.1</td>\n",
       "      <td>2016-09-05</td>\n",
       "    </tr>\n",
       "    <tr>\n",
       "      <th>2</th>\n",
       "      <td>2</td>\n",
       "      <td>75dcab40-4a22-41f6-a954-bc859fb6721f</td>\n",
       "      <td>APP_CLOSED</td>\n",
       "      <td>2016-09-18 11:08:18</td>\n",
       "      <td>android</td>\n",
       "      <td>2.5.1</td>\n",
       "      <td>2016-09-18</td>\n",
       "    </tr>\n",
       "    <tr>\n",
       "      <th>3</th>\n",
       "      <td>3</td>\n",
       "      <td>8f611b4f-40ad-4a51-b965-1312e72aa23d</td>\n",
       "      <td>APP_OPEN</td>\n",
       "      <td>2016-10-25 16:39:30</td>\n",
       "      <td>ios</td>\n",
       "      <td>6.6.0</td>\n",
       "      <td>2016-10-25</td>\n",
       "    </tr>\n",
       "    <tr>\n",
       "      <th>4</th>\n",
       "      <td>4</td>\n",
       "      <td>acbd5423-6a84-4a41-b520-faf7e078b14c</td>\n",
       "      <td>APP_CLOSED</td>\n",
       "      <td>2016-09-18 11:24:28</td>\n",
       "      <td>ios</td>\n",
       "      <td>6.4.1</td>\n",
       "      <td>2016-09-18</td>\n",
       "    </tr>\n",
       "  </tbody>\n",
       "</table>\n",
       "</div>"
      ],
      "text/plain": [
       "   Unnamed: 0                               user_id  event_name  \\\n",
       "0           0  5be921e9-e2bd-47ac-b1c8-94f7289324a2  APP_CLOSED   \n",
       "1           1  24f3d080-06b3-4053-b1c0-c1f4e40455d5  APP_CLOSED   \n",
       "2           2  75dcab40-4a22-41f6-a954-bc859fb6721f  APP_CLOSED   \n",
       "3           3  8f611b4f-40ad-4a51-b965-1312e72aa23d    APP_OPEN   \n",
       "4           4  acbd5423-6a84-4a41-b520-faf7e078b14c  APP_CLOSED   \n",
       "\n",
       "            event_time  os_name app_version  event_date  \n",
       "0  2016-09-18 03:06:25  android       2.5.1  2016-09-18  \n",
       "1  2016-09-05 19:12:19      ios       6.4.1  2016-09-05  \n",
       "2  2016-09-18 11:08:18  android       2.5.1  2016-09-18  \n",
       "3  2016-10-25 16:39:30      ios       6.6.0  2016-10-25  \n",
       "4  2016-09-18 11:24:28      ios       6.4.1  2016-09-18  "
      ]
     },
     "execution_count": 5,
     "metadata": {},
     "output_type": "execute_result"
    }
   ],
   "source": [
    "df.head(5)"
   ]
  },
  {
   "cell_type": "markdown",
   "metadata": {},
   "source": [
    "### Sorting  dataframe in increasing order of time"
   ]
  },
  {
   "cell_type": "code",
   "execution_count": 6,
   "metadata": {},
   "outputs": [],
   "source": [
    "df = df.sort_values(by = 'event_time', ascending=[1])"
   ]
  },
  {
   "cell_type": "code",
   "execution_count": 7,
   "metadata": {},
   "outputs": [
    {
     "data": {
      "text/html": [
       "<div>\n",
       "<table border=\"1\" class=\"dataframe\">\n",
       "  <thead>\n",
       "    <tr style=\"text-align: right;\">\n",
       "      <th></th>\n",
       "      <th>Unnamed: 0</th>\n",
       "      <th>user_id</th>\n",
       "      <th>event_name</th>\n",
       "      <th>event_time</th>\n",
       "      <th>os_name</th>\n",
       "      <th>app_version</th>\n",
       "      <th>event_date</th>\n",
       "    </tr>\n",
       "  </thead>\n",
       "  <tbody>\n",
       "    <tr>\n",
       "      <th>108292</th>\n",
       "      <td>108292</td>\n",
       "      <td>8f07aa09-530d-4571-86fd-269cf6a255e7</td>\n",
       "      <td>APP_CLOSED</td>\n",
       "      <td>2016-09-01 01:39:31</td>\n",
       "      <td>android</td>\n",
       "      <td>2.5.1</td>\n",
       "      <td>2016-09-01</td>\n",
       "    </tr>\n",
       "    <tr>\n",
       "      <th>339534</th>\n",
       "      <td>339534</td>\n",
       "      <td>8f07aa09-530d-4571-86fd-269cf6a255e7</td>\n",
       "      <td>APP_OPEN</td>\n",
       "      <td>2016-09-01 01:43:04</td>\n",
       "      <td>android</td>\n",
       "      <td>2.5.1</td>\n",
       "      <td>2016-09-01</td>\n",
       "    </tr>\n",
       "    <tr>\n",
       "      <th>178562</th>\n",
       "      <td>178562</td>\n",
       "      <td>8f07aa09-530d-4571-86fd-269cf6a255e7</td>\n",
       "      <td>SHOT_RECORDED</td>\n",
       "      <td>2016-09-01 01:43:04</td>\n",
       "      <td>android</td>\n",
       "      <td>2.5.1</td>\n",
       "      <td>2016-09-01</td>\n",
       "    </tr>\n",
       "    <tr>\n",
       "      <th>175335</th>\n",
       "      <td>175335</td>\n",
       "      <td>8f07aa09-530d-4571-86fd-269cf6a255e7</td>\n",
       "      <td>APP_CLOSED</td>\n",
       "      <td>2016-09-01 01:43:04</td>\n",
       "      <td>android</td>\n",
       "      <td>2.5.1</td>\n",
       "      <td>2016-09-01</td>\n",
       "    </tr>\n",
       "    <tr>\n",
       "      <th>221000</th>\n",
       "      <td>221000</td>\n",
       "      <td>8f07aa09-530d-4571-86fd-269cf6a255e7</td>\n",
       "      <td>APP_OPEN</td>\n",
       "      <td>2016-09-01 01:43:29</td>\n",
       "      <td>android</td>\n",
       "      <td>2.5.1</td>\n",
       "      <td>2016-09-01</td>\n",
       "    </tr>\n",
       "    <tr>\n",
       "      <th>55986</th>\n",
       "      <td>55986</td>\n",
       "      <td>8f07aa09-530d-4571-86fd-269cf6a255e7</td>\n",
       "      <td>APP_CLOSED</td>\n",
       "      <td>2016-09-01 01:43:30</td>\n",
       "      <td>android</td>\n",
       "      <td>2.5.1</td>\n",
       "      <td>2016-09-01</td>\n",
       "    </tr>\n",
       "    <tr>\n",
       "      <th>69233</th>\n",
       "      <td>69233</td>\n",
       "      <td>8f07aa09-530d-4571-86fd-269cf6a255e7</td>\n",
       "      <td>APP_OPEN</td>\n",
       "      <td>2016-09-01 01:43:37</td>\n",
       "      <td>android</td>\n",
       "      <td>2.5.1</td>\n",
       "      <td>2016-09-01</td>\n",
       "    </tr>\n",
       "    <tr>\n",
       "      <th>221214</th>\n",
       "      <td>221214</td>\n",
       "      <td>8f07aa09-530d-4571-86fd-269cf6a255e7</td>\n",
       "      <td>APP_CLOSED</td>\n",
       "      <td>2016-09-01 01:43:39</td>\n",
       "      <td>android</td>\n",
       "      <td>2.5.1</td>\n",
       "      <td>2016-09-01</td>\n",
       "    </tr>\n",
       "    <tr>\n",
       "      <th>198667</th>\n",
       "      <td>198667</td>\n",
       "      <td>d60aae20-1c98-48e6-8b2f-72fbcb13bef5</td>\n",
       "      <td>APP_CLOSED</td>\n",
       "      <td>2016-09-01 01:50:26</td>\n",
       "      <td>android</td>\n",
       "      <td>2.5.1</td>\n",
       "      <td>2016-09-01</td>\n",
       "    </tr>\n",
       "    <tr>\n",
       "      <th>131668</th>\n",
       "      <td>131668</td>\n",
       "      <td>d60aae20-1c98-48e6-8b2f-72fbcb13bef5</td>\n",
       "      <td>SHOT_RECORDED</td>\n",
       "      <td>2016-09-01 01:51:57</td>\n",
       "      <td>android</td>\n",
       "      <td>2.5.1</td>\n",
       "      <td>2016-09-01</td>\n",
       "    </tr>\n",
       "  </tbody>\n",
       "</table>\n",
       "</div>"
      ],
      "text/plain": [
       "        Unnamed: 0                               user_id     event_name  \\\n",
       "108292      108292  8f07aa09-530d-4571-86fd-269cf6a255e7     APP_CLOSED   \n",
       "339534      339534  8f07aa09-530d-4571-86fd-269cf6a255e7       APP_OPEN   \n",
       "178562      178562  8f07aa09-530d-4571-86fd-269cf6a255e7  SHOT_RECORDED   \n",
       "175335      175335  8f07aa09-530d-4571-86fd-269cf6a255e7     APP_CLOSED   \n",
       "221000      221000  8f07aa09-530d-4571-86fd-269cf6a255e7       APP_OPEN   \n",
       "55986        55986  8f07aa09-530d-4571-86fd-269cf6a255e7     APP_CLOSED   \n",
       "69233        69233  8f07aa09-530d-4571-86fd-269cf6a255e7       APP_OPEN   \n",
       "221214      221214  8f07aa09-530d-4571-86fd-269cf6a255e7     APP_CLOSED   \n",
       "198667      198667  d60aae20-1c98-48e6-8b2f-72fbcb13bef5     APP_CLOSED   \n",
       "131668      131668  d60aae20-1c98-48e6-8b2f-72fbcb13bef5  SHOT_RECORDED   \n",
       "\n",
       "                 event_time  os_name app_version  event_date  \n",
       "108292  2016-09-01 01:39:31  android       2.5.1  2016-09-01  \n",
       "339534  2016-09-01 01:43:04  android       2.5.1  2016-09-01  \n",
       "178562  2016-09-01 01:43:04  android       2.5.1  2016-09-01  \n",
       "175335  2016-09-01 01:43:04  android       2.5.1  2016-09-01  \n",
       "221000  2016-09-01 01:43:29  android       2.5.1  2016-09-01  \n",
       "55986   2016-09-01 01:43:30  android       2.5.1  2016-09-01  \n",
       "69233   2016-09-01 01:43:37  android       2.5.1  2016-09-01  \n",
       "221214  2016-09-01 01:43:39  android       2.5.1  2016-09-01  \n",
       "198667  2016-09-01 01:50:26  android       2.5.1  2016-09-01  \n",
       "131668  2016-09-01 01:51:57  android       2.5.1  2016-09-01  "
      ]
     },
     "execution_count": 7,
     "metadata": {},
     "output_type": "execute_result"
    }
   ],
   "source": [
    "df.head(10)"
   ]
  },
  {
   "cell_type": "markdown",
   "metadata": {},
   "source": [
    "### Adding a column where '1' represent new user and '0' represent revisiting user"
   ]
  },
  {
   "cell_type": "code",
   "execution_count": 8,
   "metadata": {},
   "outputs": [],
   "source": [
    "buff = []\n",
    "new_user_list = []\n",
    "for index, row in df.iterrows():\n",
    "    if row['user_id'] not in buff:\n",
    "        new_user_list.append(1)\n",
    "        buff.append(row['user_id'])\n",
    "    else:\n",
    "        new_user_list.append(0)\n",
    "df['new_user'] = new_user_list"
   ]
  },
  {
   "cell_type": "code",
   "execution_count": 9,
   "metadata": {},
   "outputs": [
    {
     "data": {
      "text/html": [
       "<div>\n",
       "<table border=\"1\" class=\"dataframe\">\n",
       "  <thead>\n",
       "    <tr style=\"text-align: right;\">\n",
       "      <th></th>\n",
       "      <th>Unnamed: 0</th>\n",
       "      <th>user_id</th>\n",
       "      <th>event_name</th>\n",
       "      <th>event_time</th>\n",
       "      <th>os_name</th>\n",
       "      <th>app_version</th>\n",
       "      <th>event_date</th>\n",
       "      <th>new_user</th>\n",
       "    </tr>\n",
       "  </thead>\n",
       "  <tbody>\n",
       "    <tr>\n",
       "      <th>108292</th>\n",
       "      <td>108292</td>\n",
       "      <td>8f07aa09-530d-4571-86fd-269cf6a255e7</td>\n",
       "      <td>APP_CLOSED</td>\n",
       "      <td>2016-09-01 01:39:31</td>\n",
       "      <td>android</td>\n",
       "      <td>2.5.1</td>\n",
       "      <td>2016-09-01</td>\n",
       "      <td>1</td>\n",
       "    </tr>\n",
       "    <tr>\n",
       "      <th>339534</th>\n",
       "      <td>339534</td>\n",
       "      <td>8f07aa09-530d-4571-86fd-269cf6a255e7</td>\n",
       "      <td>APP_OPEN</td>\n",
       "      <td>2016-09-01 01:43:04</td>\n",
       "      <td>android</td>\n",
       "      <td>2.5.1</td>\n",
       "      <td>2016-09-01</td>\n",
       "      <td>0</td>\n",
       "    </tr>\n",
       "    <tr>\n",
       "      <th>178562</th>\n",
       "      <td>178562</td>\n",
       "      <td>8f07aa09-530d-4571-86fd-269cf6a255e7</td>\n",
       "      <td>SHOT_RECORDED</td>\n",
       "      <td>2016-09-01 01:43:04</td>\n",
       "      <td>android</td>\n",
       "      <td>2.5.1</td>\n",
       "      <td>2016-09-01</td>\n",
       "      <td>0</td>\n",
       "    </tr>\n",
       "    <tr>\n",
       "      <th>175335</th>\n",
       "      <td>175335</td>\n",
       "      <td>8f07aa09-530d-4571-86fd-269cf6a255e7</td>\n",
       "      <td>APP_CLOSED</td>\n",
       "      <td>2016-09-01 01:43:04</td>\n",
       "      <td>android</td>\n",
       "      <td>2.5.1</td>\n",
       "      <td>2016-09-01</td>\n",
       "      <td>0</td>\n",
       "    </tr>\n",
       "    <tr>\n",
       "      <th>221000</th>\n",
       "      <td>221000</td>\n",
       "      <td>8f07aa09-530d-4571-86fd-269cf6a255e7</td>\n",
       "      <td>APP_OPEN</td>\n",
       "      <td>2016-09-01 01:43:29</td>\n",
       "      <td>android</td>\n",
       "      <td>2.5.1</td>\n",
       "      <td>2016-09-01</td>\n",
       "      <td>0</td>\n",
       "    </tr>\n",
       "  </tbody>\n",
       "</table>\n",
       "</div>"
      ],
      "text/plain": [
       "        Unnamed: 0                               user_id     event_name  \\\n",
       "108292      108292  8f07aa09-530d-4571-86fd-269cf6a255e7     APP_CLOSED   \n",
       "339534      339534  8f07aa09-530d-4571-86fd-269cf6a255e7       APP_OPEN   \n",
       "178562      178562  8f07aa09-530d-4571-86fd-269cf6a255e7  SHOT_RECORDED   \n",
       "175335      175335  8f07aa09-530d-4571-86fd-269cf6a255e7     APP_CLOSED   \n",
       "221000      221000  8f07aa09-530d-4571-86fd-269cf6a255e7       APP_OPEN   \n",
       "\n",
       "                 event_time  os_name app_version  event_date  new_user  \n",
       "108292  2016-09-01 01:39:31  android       2.5.1  2016-09-01         1  \n",
       "339534  2016-09-01 01:43:04  android       2.5.1  2016-09-01         0  \n",
       "178562  2016-09-01 01:43:04  android       2.5.1  2016-09-01         0  \n",
       "175335  2016-09-01 01:43:04  android       2.5.1  2016-09-01         0  \n",
       "221000  2016-09-01 01:43:29  android       2.5.1  2016-09-01         0  "
      ]
     },
     "execution_count": 9,
     "metadata": {},
     "output_type": "execute_result"
    }
   ],
   "source": [
    "df.head(5)"
   ]
  },
  {
   "cell_type": "markdown",
   "metadata": {},
   "source": [
    "# Functions to Calculate Day-7 retention"
   ]
  },
  {
   "cell_type": "code",
   "execution_count": 10,
   "metadata": {},
   "outputs": [],
   "source": [
    "from datetime import timedelta, date\n",
    "\n",
    "# function to get a loop over date\n",
    "\n",
    "def date_range(start_date, end_date):\n",
    "    for n in range(int ((end_date - start_date).days)):\n",
    "        yield start_date + timedelta(n)        \n",
    "        \n",
    "def retention_calculator(start_date, end_date, osName, appVersion):\n",
    "    \n",
    "    list1 = []    # List to store number of all the new users on each date in input date range\n",
    "    list2 = []    # List to store number of all the user who revisited the app on 7th day after the date of their first Kamcord app open\n",
    "        \n",
    "    day_retention = 7 # By changing this to any othe value 'N' we can get N-Day retention value\n",
    "    \n",
    "    \n",
    "    for single_date in date_range(start_date, end_date):\n",
    "        \n",
    "        set1 = set()    #set to store user_id's who opened their app for first time\n",
    "        set2 = set()    #set to store user_id's who revisited the app on 7th day after the date of their first Kamcord app open \n",
    "        \n",
    "        \n",
    "        # Conditions to get two dataframe \n",
    "        # first (df_new_user) with all the new users corresponding to input \n",
    "        # second (df_revisiting_user) with all the user revisiting the app on 7th day after the date of their first Kamcord app open\n",
    "        \n",
    "        if ((start_date != '') & (end_date != '') & (osName == '') & (appVersion == '')):\n",
    "            df_new_user = df[(df.event_date == str(single_date)) & (df.new_user == 1)]\n",
    "            df_revisiting_user = df[(df.event_date == str(single_date+ timedelta(days=day_retention))) & (df.new_user == 0)]\n",
    "        \n",
    "        elif ((start_date != '') & (end_date != '') & (osName != '') & (appVersion == '')):\n",
    "            df_new_user = df[(df.event_date == str(single_date)) & (df.new_user == 1) & (df.os_name == osName)]\n",
    "            df_revisiting_user = df[(df.event_date == str(single_date+ timedelta(days=day_retention))) & (df.new_user == 0)  & (df.os_name == osName)] \n",
    "        \n",
    "        elif ((start_date != '') & (end_date != '') & (osName == '') & (appVersion != '')):\n",
    "            df_new_user = df[(df.event_date == str(single_date)) & (df.new_user == 1) & (df.app_version.str.contains(appVersion))]    \n",
    "            df_revisiting_user = df[(df.event_date == str(single_date+ timedelta(days=day_retention))) & (df.new_user == 0)  & (df.app_version.str.contains(appVersion))]\n",
    "        \n",
    "        elif ((start_date != '') & (end_date != '') & (osName != '') & (appVersion != '')):\n",
    "            df_new_user = df[(df.event_date == str(single_date)) & (df.new_user == 1) & (df.os_name == osName) & (df.app_version.str.contains(appVersion))]\n",
    "            df_revisiting_user = df[(df.event_date == str(single_date+ timedelta(days=day_retention))) & (df.new_user == 0) & (df.os_name == osName) & (df.app_version.str.contains(appVersion))]\n",
    "       \n",
    "    \n",
    "        # Loop to create set of user_id's who opened their app for first time\n",
    "        \n",
    "        for index, row in df_new_user.iterrows():\n",
    "            set1.add(row.user_id)\n",
    "            \n",
    "        # Loop to get set of user who revisited the app on 7th day after the date of their first Kamcord app open \n",
    "        \n",
    "        for index, row in df_revisiting_user.iterrows():\n",
    "            if row.user_id in set1:\n",
    "                set2.add(row.user_id)\n",
    "                \n",
    "                \n",
    "        # list1 represent number of all the new users on each date in input date range\n",
    "        \n",
    "        list1.append(len(set1))\n",
    "        \n",
    "        # list2 represent number of all the user who revisited the app on 7th day after the date of their first Kamcord app open\n",
    "        \n",
    "        list2.append(len(set2))\n",
    "        \n",
    "        # Below is the Calculation of Day-7 retention\n",
    "        \n",
    "    if (sum(list1)> 0):\n",
    "        Day_7_retention = str(float(sum(list2))/float(sum(list1)) * 100)\n",
    "        print 'Day 7 retention for given date range is: ' + Day_7_retention + '%'\n",
    "    else:\n",
    "        print 'Day 7 retention for given date range is: 0%'"
   ]
  },
  {
   "cell_type": "markdown",
   "metadata": {},
   "source": [
    "# What was the overall Day-7 retention over the month of September?"
   ]
  },
  {
   "cell_type": "code",
   "execution_count": 11,
   "metadata": {},
   "outputs": [
    {
     "name": "stdout",
     "output_type": "stream",
     "text": [
      "Day 7 retention for given date range is: 5.0103060092%\n"
     ]
    }
   ],
   "source": [
    "Start_Date = date(2016, 9, 1)\n",
    "End_Date = date(2016, 10, 1)\n",
    "App_Version = ''\n",
    "OS_Name = ''\n",
    "retention_calculator(Start_Date, End_Date, OS_Name, App_Version)"
   ]
  },
  {
   "cell_type": "markdown",
   "metadata": {},
   "source": [
    "# What was the Day-7 retention from September 8 through September 10 for Android users?"
   ]
  },
  {
   "cell_type": "code",
   "execution_count": 12,
   "metadata": {},
   "outputs": [
    {
     "name": "stdout",
     "output_type": "stream",
     "text": [
      "Day 7 retention for given date range is: 6.25%\n"
     ]
    }
   ],
   "source": [
    "Start_Date = date(2016, 9, 8)\n",
    "End_Date = date(2016, 9, 11)\n",
    "App_Version = ''\n",
    "OS_Name = 'android'\n",
    "retention_calculator(Start_Date, End_Date, OS_Name, App_Version)"
   ]
  },
  {
   "cell_type": "markdown",
   "metadata": {},
   "source": [
    "# What was the Day-7 retention over the month of September for iOS users using version 6.5?"
   ]
  },
  {
   "cell_type": "code",
   "execution_count": 13,
   "metadata": {},
   "outputs": [
    {
     "name": "stdout",
     "output_type": "stream",
     "text": [
      "Day 7 retention for given date range is: 5.38461538462%\n"
     ]
    }
   ],
   "source": [
    "Start_Date = date(2016, 9, 1)\n",
    "End_Date = date(2016, 10,1)\n",
    "OS_Name = 'ios'\n",
    "App_Version = '6.5'\n",
    "retention_calculator(Start_Date, End_Date, OS_Name, App_Version)"
   ]
  },
  {
   "cell_type": "markdown",
   "metadata": {},
   "source": [
    "# Use Below format to get Day-7 retention for any customised input\n",
    "\n",
    "### Start_Date = date(YYYY , MM, DD)\n",
    "### End_Date = date(YYYY , MM, DD)         :      This should be a day more than last date \n",
    "### OS_Name = 'android' or 'ios'\n",
    "### App_Version = 'A.B.C' or as you wish\n",
    "### retention_calculator(Start_Date, End_Date, OS_Name, App_Version)"
   ]
  },
  {
   "cell_type": "code",
   "execution_count": null,
   "metadata": {
    "collapsed": true
   },
   "outputs": [],
   "source": []
  }
 ],
 "metadata": {
  "anaconda-cloud": {},
  "kernelspec": {
   "display_name": "Python 3",
   "language": "python",
   "name": "python3"
  },
  "language_info": {
   "codemirror_mode": {
    "name": "ipython",
    "version": 3
   },
   "file_extension": ".py",
   "mimetype": "text/x-python",
   "name": "python",
   "nbconvert_exporter": "python",
   "pygments_lexer": "ipython3",
   "version": "3.6.3"
  }
 },
 "nbformat": 4,
 "nbformat_minor": 1
}
