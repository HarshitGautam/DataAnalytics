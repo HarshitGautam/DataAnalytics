{
 "cells": [
  {
   "cell_type": "code",
<<<<<<< HEAD
   "execution_count": 1,
=======
   "execution_count": 85,
>>>>>>> 92f6c34c230fd5a52c17a3c3967713f46370d340
   "metadata": {
    "collapsed": true
   },
   "outputs": [],
   "source": [
    "import pandas as pd;\n",
    "import numpy as np\n",
    "import seaborn as sns\n",
    "import matplotlib.pyplot as plt"
   ]
  },
  {
   "cell_type": "code",
<<<<<<< HEAD
   "execution_count": 2,
=======
   "execution_count": 86,
>>>>>>> 92f6c34c230fd5a52c17a3c3967713f46370d340
   "metadata": {
    "collapsed": true
   },
   "outputs": [],
   "source": [
    "%matplotlib inline"
   ]
  },
  {
   "cell_type": "code",
<<<<<<< HEAD
   "execution_count": 3,
=======
   "execution_count": 87,
>>>>>>> 92f6c34c230fd5a52c17a3c3967713f46370d340
   "metadata": {
    "collapsed": false
   },
   "outputs": [],
   "source": [
    "df = pd.read_csv('C:/Users/hgsgautam/Desktop/Python/PythonGIT/kickstarter.csv')"
   ]
  },
  {
   "cell_type": "code",
<<<<<<< HEAD
   "execution_count": 4,
=======
   "execution_count": 88,
>>>>>>> 92f6c34c230fd5a52c17a3c3967713f46370d340
   "metadata": {
    "collapsed": false
   },
   "outputs": [
    {
     "data": {
      "text/html": [
       "<div>\n",
       "<table border=\"1\" class=\"dataframe\">\n",
       "  <thead>\n",
       "    <tr style=\"text-align: right;\">\n",
       "      <th></th>\n",
       "      <th>id</th>\n",
       "      <th>name</th>\n",
       "      <th>goal</th>\n",
       "      <th>pledged</th>\n",
       "      <th>state</th>\n",
       "      <th>country</th>\n",
       "      <th>currency</th>\n",
       "      <th>currency_trailing_code</th>\n",
       "      <th>staff_pick</th>\n",
       "      <th>backers_count</th>\n",
       "      <th>static_usd_rate</th>\n",
       "      <th>usd_pledged</th>\n",
       "      <th>category</th>\n",
       "      <th>spotlight</th>\n",
       "    </tr>\n",
       "  </thead>\n",
       "  <tbody>\n",
       "    <tr>\n",
       "      <th>0</th>\n",
       "      <td>1526127826</td>\n",
       "      <td>conceptual-waist-aprons</td>\n",
       "      <td>300.0</td>\n",
       "      <td>321.00</td>\n",
       "      <td>successful</td>\n",
       "      <td>US</td>\n",
       "      <td>USD</td>\n",
       "      <td>True</td>\n",
       "      <td>False</td>\n",
       "      <td>18</td>\n",
       "      <td>1.000000</td>\n",
       "      <td>321.000000</td>\n",
       "      <td>Conceptual Art</td>\n",
       "      <td>True</td>\n",
       "    </tr>\n",
       "    <tr>\n",
       "      <th>1</th>\n",
       "      <td>2007987502</td>\n",
       "      <td>mjolby-porslinsravsmuseum-pin</td>\n",
       "      <td>3000.0</td>\n",
       "      <td>7070.00</td>\n",
       "      <td>successful</td>\n",
       "      <td>SE</td>\n",
       "      <td>SEK</td>\n",
       "      <td>True</td>\n",
       "      <td>False</td>\n",
       "      <td>79</td>\n",
       "      <td>0.121226</td>\n",
       "      <td>857.068103</td>\n",
       "      <td>Conceptual Art</td>\n",
       "      <td>True</td>\n",
       "    </tr>\n",
       "    <tr>\n",
       "      <th>2</th>\n",
       "      <td>1075407414</td>\n",
       "      <td>cool-dog-annual-sticker-fund-2016</td>\n",
       "      <td>3200.0</td>\n",
       "      <td>4431.12</td>\n",
       "      <td>successful</td>\n",
       "      <td>US</td>\n",
       "      <td>USD</td>\n",
       "      <td>True</td>\n",
       "      <td>False</td>\n",
       "      <td>148</td>\n",
       "      <td>1.000000</td>\n",
       "      <td>4431.120000</td>\n",
       "      <td>Conceptual Art</td>\n",
       "      <td>True</td>\n",
       "    </tr>\n",
       "    <tr>\n",
       "      <th>3</th>\n",
       "      <td>1038608633</td>\n",
       "      <td>uss-coral-sea-cvb-cva-cv-43-commemorative-chal...</td>\n",
       "      <td>2100.0</td>\n",
       "      <td>2500.00</td>\n",
       "      <td>successful</td>\n",
       "      <td>US</td>\n",
       "      <td>USD</td>\n",
       "      <td>True</td>\n",
       "      <td>False</td>\n",
       "      <td>56</td>\n",
       "      <td>1.000000</td>\n",
       "      <td>2500.000000</td>\n",
       "      <td>Conceptual Art</td>\n",
       "      <td>True</td>\n",
       "    </tr>\n",
       "    <tr>\n",
       "      <th>4</th>\n",
       "      <td>451699826</td>\n",
       "      <td>amrita-bottles-inc</td>\n",
       "      <td>1950.0</td>\n",
       "      <td>2240.00</td>\n",
       "      <td>successful</td>\n",
       "      <td>US</td>\n",
       "      <td>USD</td>\n",
       "      <td>True</td>\n",
       "      <td>False</td>\n",
       "      <td>31</td>\n",
       "      <td>1.000000</td>\n",
       "      <td>2240.000000</td>\n",
       "      <td>Conceptual Art</td>\n",
       "      <td>True</td>\n",
       "    </tr>\n",
       "    <tr>\n",
       "      <th>5</th>\n",
       "      <td>1765015841</td>\n",
       "      <td>draw-like-a-boss</td>\n",
       "      <td>30000.0</td>\n",
       "      <td>51833.32</td>\n",
       "      <td>successful</td>\n",
       "      <td>GB</td>\n",
       "      <td>GBP</td>\n",
       "      <td>False</td>\n",
       "      <td>False</td>\n",
       "      <td>1633</td>\n",
       "      <td>1.551660</td>\n",
       "      <td>80427.699680</td>\n",
       "      <td>Conceptual Art</td>\n",
       "      <td>True</td>\n",
       "    </tr>\n",
       "    <tr>\n",
       "      <th>6</th>\n",
       "      <td>1881968040</td>\n",
       "      <td>art-and-soul-body-painting-self-acceptance-aft...</td>\n",
       "      <td>300.0</td>\n",
       "      <td>322.00</td>\n",
       "      <td>successful</td>\n",
       "      <td>US</td>\n",
       "      <td>USD</td>\n",
       "      <td>True</td>\n",
       "      <td>False</td>\n",
       "      <td>14</td>\n",
       "      <td>1.000000</td>\n",
       "      <td>322.000000</td>\n",
       "      <td>Conceptual Art</td>\n",
       "      <td>True</td>\n",
       "    </tr>\n",
       "    <tr>\n",
       "      <th>7</th>\n",
       "      <td>1624053431</td>\n",
       "      <td>art-of-words-pop-artist</td>\n",
       "      <td>12000.0</td>\n",
       "      <td>12568.00</td>\n",
       "      <td>successful</td>\n",
       "      <td>US</td>\n",
       "      <td>USD</td>\n",
       "      <td>True</td>\n",
       "      <td>False</td>\n",
       "      <td>148</td>\n",
       "      <td>1.000000</td>\n",
       "      <td>12568.000000</td>\n",
       "      <td>Conceptual Art</td>\n",
       "      <td>True</td>\n",
       "    </tr>\n",
       "    <tr>\n",
       "      <th>8</th>\n",
       "      <td>759609400</td>\n",
       "      <td>the-new-oklahomaa-plan-to-improve-the-worst-pa...</td>\n",
       "      <td>100.0</td>\n",
       "      <td>1060.01</td>\n",
       "      <td>successful</td>\n",
       "      <td>US</td>\n",
       "      <td>USD</td>\n",
       "      <td>True</td>\n",
       "      <td>False</td>\n",
       "      <td>50</td>\n",
       "      <td>1.000000</td>\n",
       "      <td>1060.010000</td>\n",
       "      <td>Conceptual Art</td>\n",
       "      <td>True</td>\n",
       "    </tr>\n",
       "    <tr>\n",
       "      <th>9</th>\n",
       "      <td>96887393</td>\n",
       "      <td>mapping-budapest-budpst</td>\n",
       "      <td>500.0</td>\n",
       "      <td>615.00</td>\n",
       "      <td>successful</td>\n",
       "      <td>GB</td>\n",
       "      <td>GBP</td>\n",
       "      <td>False</td>\n",
       "      <td>False</td>\n",
       "      <td>34</td>\n",
       "      <td>1.520110</td>\n",
       "      <td>934.867835</td>\n",
       "      <td>Conceptual Art</td>\n",
       "      <td>True</td>\n",
       "    </tr>\n",
       "  </tbody>\n",
       "</table>\n",
       "</div>"
      ],
      "text/plain": [
       "           id                                               name     goal  \\\n",
       "0  1526127826                            conceptual-waist-aprons    300.0   \n",
       "1  2007987502                      mjolby-porslinsravsmuseum-pin   3000.0   \n",
       "2  1075407414                  cool-dog-annual-sticker-fund-2016   3200.0   \n",
       "3  1038608633  uss-coral-sea-cvb-cva-cv-43-commemorative-chal...   2100.0   \n",
       "4   451699826                                 amrita-bottles-inc   1950.0   \n",
       "5  1765015841                                   draw-like-a-boss  30000.0   \n",
       "6  1881968040  art-and-soul-body-painting-self-acceptance-aft...    300.0   \n",
       "7  1624053431                            art-of-words-pop-artist  12000.0   \n",
       "8   759609400  the-new-oklahomaa-plan-to-improve-the-worst-pa...    100.0   \n",
       "9    96887393                            mapping-budapest-budpst    500.0   \n",
       "\n",
       "    pledged       state country currency currency_trailing_code staff_pick  \\\n",
       "0    321.00  successful      US      USD                   True      False   \n",
       "1   7070.00  successful      SE      SEK                   True      False   \n",
       "2   4431.12  successful      US      USD                   True      False   \n",
       "3   2500.00  successful      US      USD                   True      False   \n",
       "4   2240.00  successful      US      USD                   True      False   \n",
       "5  51833.32  successful      GB      GBP                  False      False   \n",
       "6    322.00  successful      US      USD                   True      False   \n",
       "7  12568.00  successful      US      USD                   True      False   \n",
       "8   1060.01  successful      US      USD                   True      False   \n",
       "9    615.00  successful      GB      GBP                  False      False   \n",
       "\n",
       "   backers_count  static_usd_rate   usd_pledged        category spotlight  \n",
       "0             18         1.000000    321.000000  Conceptual Art      True  \n",
       "1             79         0.121226    857.068103  Conceptual Art      True  \n",
       "2            148         1.000000   4431.120000  Conceptual Art      True  \n",
       "3             56         1.000000   2500.000000  Conceptual Art      True  \n",
       "4             31         1.000000   2240.000000  Conceptual Art      True  \n",
       "5           1633         1.551660  80427.699680  Conceptual Art      True  \n",
       "6             14         1.000000    322.000000  Conceptual Art      True  \n",
       "7            148         1.000000  12568.000000  Conceptual Art      True  \n",
       "8             50         1.000000   1060.010000  Conceptual Art      True  \n",
       "9             34         1.520110    934.867835  Conceptual Art      True  "
      ]
     },
<<<<<<< HEAD
     "execution_count": 4,
=======
     "execution_count": 88,
>>>>>>> 92f6c34c230fd5a52c17a3c3967713f46370d340
     "metadata": {},
     "output_type": "execute_result"
    }
   ],
   "source": [
    "df.head(10)"
   ]
  },
  {
   "cell_type": "code",
<<<<<<< HEAD
   "execution_count": 5,
=======
   "execution_count": 89,
>>>>>>> 92f6c34c230fd5a52c17a3c3967713f46370d340
   "metadata": {
    "collapsed": false
   },
   "outputs": [
    {
     "data": {
      "text/plain": [
       "<bound method DataFrame.describe of               id                                               name      goal  \\\n",
       "0     1526127826                            conceptual-waist-aprons     300.0   \n",
       "1     2007987502                      mjolby-porslinsravsmuseum-pin    3000.0   \n",
       "2     1075407414                  cool-dog-annual-sticker-fund-2016    3200.0   \n",
       "3     1038608633  uss-coral-sea-cvb-cva-cv-43-commemorative-chal...    2100.0   \n",
       "4      451699826                                 amrita-bottles-inc    1950.0   \n",
       "5     1765015841                                   draw-like-a-boss   30000.0   \n",
       "6     1881968040  art-and-soul-body-painting-self-acceptance-aft...     300.0   \n",
       "7     1624053431                            art-of-words-pop-artist   12000.0   \n",
       "8      759609400  the-new-oklahomaa-plan-to-improve-the-worst-pa...     100.0   \n",
       "9       96887393                            mapping-budapest-budpst     500.0   \n",
       "10    1812065143                                      southern-rims    1500.0   \n",
       "11    1211451479       help-alexi-era-gallerys-relocation-to-oregon   15000.0   \n",
       "12     966852264                                          pulse-art     200.0   \n",
       "13     903875893                   unique-original-art-just-for-you     800.0   \n",
       "14     433802709     fjuk-artist-residency-performance-installation    3000.0   \n",
       "15    1673846410   existential-alleviation-40-days-bicycling-a-book     800.0   \n",
       "16    2059892440                                      studio-subway     500.0   \n",
       "17     142462051     and-again-university-of-leeds-degree-show-2016     500.0   \n",
       "18     297312144                                        illuminated    3500.0   \n",
       "19     678795038                        an-imaginary-map-of-reading     150.0   \n",
       "20     621706600  9-ways-to-say-its-over-a-film-and-photography-...    2000.0   \n",
       "21    1968477591          experience-the-commonwealth-of-new-island    3500.0   \n",
       "22     397420745              an-experiment-in-space-and-sound-duet    2400.0   \n",
       "23    1060238474  museum-of-non-visible-art-praxis-and-james-franco    5000.0   \n",
       "24     141446734                                          number-34    2000.0   \n",
       "25    1912195897  i-heart-my-attitude-collection-the-store-goes-...    4499.0   \n",
       "26     121072620                                     meme-the-world    5000.0   \n",
       "27    1010649633                    future-phenomena-amanda-browder     800.0   \n",
       "28    2029600232  the-tumbleweed-collective-revealing-america-on...     600.0   \n",
       "29    2080353391                                       glitter-gold    2000.0   \n",
       "...          ...                                                ...       ...   \n",
       "4154   387442765               k2-design-llc-limited-edition-prints   18000.0   \n",
       "4155  1368625486                                           round-up    3000.0   \n",
       "4156  1048392215                                      kyta-paintart     500.0   \n",
       "4157   866737218          the-view-out-portraits-of-the-sea-and-sky    7000.0   \n",
       "4158  1764521239                                  new-york-art-show    7000.0   \n",
       "4159   683865116  art-exhibit-drawing-painting-digital-illustration    7000.0   \n",
       "4160    71893729  dreams-of-telluride-a-plein-air-painting-chall...    4930.0   \n",
       "4161  1970080088        the-sixtoeight-exhibit-surfing-through-life   20000.0   \n",
       "4162  1908034435         life-drawing-classes-at-melrose-lightspace    1000.0   \n",
       "4163  2018614809                   2014-dia-de-los-muertos-calendar    3000.0   \n",
       "4164  1510426913   art-for-rent-custom-artwork-to-fund-living-space     500.0   \n",
       "4165    73713218                         launch-50-colorado-artists   12500.0   \n",
       "4166  1857451908                           series-of-baby-portraits    2700.0   \n",
       "4167  1542863126                    panel-makers-marks-on-paintings  580000.0   \n",
       "4168  1571369944                              abstract-oil-painting     500.0   \n",
       "4169   242607068                pesipop-loves-you-love-pesipop-back    4000.0   \n",
       "4170  1662187605           the-leroy-miranda-pop-up-gallery-project   30000.0   \n",
       "4171  1512025543            heather-kapteyn-premier-collection-2015    1950.0   \n",
       "4172  1332393133                                    getting-noticed   10000.0   \n",
       "4173  1871042595                      sunflower-seeds-art-paintings    5000.0   \n",
       "4174  1273626113                                     orchid-studios     300.0   \n",
       "4175  1626001698                        prapatas-art-from-the-heart    2500.0   \n",
       "4176   786119391  sponsor-pointillistic-artist-4-the-2017-floren...   20000.0   \n",
       "4177   542562325                            my-first-art-exhibition   15000.0   \n",
       "4178  1045784902  skydiving-artist-trains-for-world-record-and-d...   55000.0   \n",
       "4179   946128614                          perfect-joy-oil-paintings     665.0   \n",
       "4180   775858055  promote-validated-squaring-the-circle-as-a-pai...   80000.0   \n",
       "4181  1327025806  padmajala-84-maha-siddha-master-quality-thangk...  132300.0   \n",
       "4182  1466235077          the-charlie-chittenden-portrait-challenge    7500.0   \n",
       "4183  1578366283                         the-imagine-us-here-portal    2000.0   \n",
       "\n",
       "       pledged       state country currency currency_trailing_code staff_pick  \\\n",
       "0       321.00  successful      US      USD                   True      False   \n",
       "1      7070.00  successful      SE      SEK                   True      False   \n",
       "2      4431.12  successful      US      USD                   True      False   \n",
       "3      2500.00  successful      US      USD                   True      False   \n",
       "4      2240.00  successful      US      USD                   True      False   \n",
       "5     51833.32  successful      GB      GBP                  False      False   \n",
       "6       322.00  successful      US      USD                   True      False   \n",
       "7     12568.00  successful      US      USD                   True      False   \n",
       "8      1060.01  successful      US      USD                   True      False   \n",
       "9       615.00  successful      GB      GBP                  False      False   \n",
       "10     1536.00  successful      US      USD                   True      False   \n",
       "11    24584.00  successful      US      USD                   True      False   \n",
       "12      239.00  successful      FR      EUR                  False      False   \n",
       "13      881.00  successful      CA      CAD                   True      False   \n",
       "14     4569.00  successful      US      USD                   True      False   \n",
       "15     1071.00  successful      US      USD                   True      False   \n",
       "16      508.00  successful      US      USD                   True      False   \n",
       "17      757.00  successful      GB      GBP                  False      False   \n",
       "18     4532.00  successful      US      USD                   True      False   \n",
       "19      185.00  successful      US      USD                   True      False   \n",
       "20     2166.00  successful      GB      GBP                  False       True   \n",
       "21     5739.00  successful      US      USD                   True       True   \n",
       "22     2455.00  successful      US      USD                   True       True   \n",
       "23    16197.01  successful      US      USD                   True       True   \n",
       "24     2760.00  successful      US      USD                   True       True   \n",
       "25     4580.00  successful      US      USD                   True       True   \n",
       "26     5258.00  successful      US      USD                   True       True   \n",
       "27     1064.00  successful      US      USD                   True       True   \n",
       "28      833.36  successful      US      USD                   True       True   \n",
       "29     2095.00  successful      US      USD                   True       True   \n",
       "...        ...         ...     ...      ...                    ...        ...   \n",
       "4154      1.00      failed      US      USD                   True      False   \n",
       "4155   1055.00      failed      US      USD                   True      False   \n",
       "4156      0.00      failed      US      USD                   True      False   \n",
       "4157    635.00      failed      US      USD                   True      False   \n",
       "4158     50.00      failed      US      USD                   True      False   \n",
       "4159   3561.00      failed      US      USD                   True      False   \n",
       "4160   3920.00      failed      US      USD                   True      False   \n",
       "4161    295.00      failed      US      USD                   True      False   \n",
       "4162     10.00      failed      US      USD                   True      False   \n",
       "4163    453.00      failed      US      USD                   True      False   \n",
       "4164     12.00      failed      US      USD                   True      False   \n",
       "4165    256.00      failed      US      USD                   True      False   \n",
       "4166     40.00      failed      US      USD                   True      False   \n",
       "4167      0.00      failed      DK      DKK                   True      False   \n",
       "4168     95.00      failed      US      USD                   True      False   \n",
       "4169   1125.00      failed      US      USD                   True      False   \n",
       "4170     30.00      failed      US      USD                   True      False   \n",
       "4171    337.00      failed      US      USD                   True      False   \n",
       "4172      0.00      failed      US      USD                   True      False   \n",
       "4173      0.00      failed      US      USD                   True      False   \n",
       "4174     80.00      failed      CA      CAD                   True      False   \n",
       "4175     38.00      failed      US      USD                   True      False   \n",
       "4176    210.00      failed      US      USD                   True      False   \n",
       "4177   3050.00      failed      DK      DKK                   True      False   \n",
       "4178   1285.00      failed      US      USD                   True      False   \n",
       "4179      0.00      failed      US      USD                   True      False   \n",
       "4180      0.00      failed      US      USD                   True      False   \n",
       "4181     50.00      failed      US      USD                   True      False   \n",
       "4182    155.00      failed      GB      GBP                  False      False   \n",
       "4183    155.00      failed      US      USD                   True      False   \n",
       "\n",
       "      backers_count  static_usd_rate   usd_pledged        category spotlight  \n",
       "0                18         1.000000    321.000000  Conceptual Art      True  \n",
       "1                79         0.121226    857.068103  Conceptual Art      True  \n",
       "2               148         1.000000   4431.120000  Conceptual Art      True  \n",
       "3                56         1.000000   2500.000000  Conceptual Art      True  \n",
       "4                31         1.000000   2240.000000  Conceptual Art      True  \n",
       "5              1633         1.551660  80427.699680  Conceptual Art      True  \n",
       "6                14         1.000000    322.000000  Conceptual Art      True  \n",
       "7               148         1.000000  12568.000000  Conceptual Art      True  \n",
       "8                50         1.000000   1060.010000  Conceptual Art      True  \n",
       "9                34         1.520110    934.867835  Conceptual Art      True  \n",
       "10               25         1.000000   1536.000000  Conceptual Art      True  \n",
       "11              195         1.000000  24584.000000  Conceptual Art      True  \n",
       "12                7         1.122460    268.268043  Conceptual Art      True  \n",
       "13               22         0.795465    700.804295  Conceptual Art      True  \n",
       "14               50         1.000000   4569.000000  Conceptual Art      True  \n",
       "15               18         1.000000   1071.000000  Conceptual Art      True  \n",
       "16               18         1.000000    508.000000  Conceptual Art      True  \n",
       "17               27         1.443262   1092.549160  Conceptual Art      True  \n",
       "18               19         1.000000   4532.000000  Conceptual Art      True  \n",
       "19                8         1.000000    185.000000  Conceptual Art      True  \n",
       "20               50         1.542232   3340.473862  Conceptual Art      True  \n",
       "21               79         1.000000   5739.000000  Conceptual Art      True  \n",
       "22               44         1.000000   2455.000000  Conceptual Art      True  \n",
       "23              164         1.000000  16197.010000  Conceptual Art      True  \n",
       "24               47         1.000000   2760.000000  Conceptual Art      True  \n",
       "25               70         1.000000   4580.000000  Conceptual Art      True  \n",
       "26               87         1.000000   5258.000000  Conceptual Art      True  \n",
       "27               25         1.000000   1064.000000  Conceptual Art      True  \n",
       "28               33         1.000000    833.360000  Conceptual Art      True  \n",
       "29               48         1.000000   2095.000000  Conceptual Art      True  \n",
       "...             ...              ...           ...             ...       ...  \n",
       "4154              1         1.000000      1.000000        Painting     False  \n",
       "4155             14         1.000000   1055.000000        Painting     False  \n",
       "4156              0         1.000000      0.000000        Painting     False  \n",
       "4157              4         1.000000    635.000000        Painting     False  \n",
       "4158              2         1.000000     50.000000        Painting     False  \n",
       "4159             60         1.000000   3561.000000        Painting     False  \n",
       "4160             11         1.000000   3920.000000        Painting     False  \n",
       "4161              6         1.000000    295.000000        Painting     False  \n",
       "4162              1         1.000000     10.000000        Painting     False  \n",
       "4163             10         1.000000    453.000000        Painting     False  \n",
       "4164              1         1.000000     12.000000        Painting     False  \n",
       "4165              5         1.000000    256.000000        Painting     False  \n",
       "4166              2         1.000000     40.000000        Painting     False  \n",
       "4167              0         0.149488      0.000000        Painting     False  \n",
       "4168              3         1.000000     95.000000        Painting     False  \n",
       "4169             10         1.000000   1125.000000        Painting     False  \n",
       "4170              2         1.000000     30.000000        Painting     False  \n",
       "4171              5         1.000000    337.000000        Painting     False  \n",
       "4172              0         1.000000      0.000000        Painting     False  \n",
       "4173              0         1.000000      0.000000        Painting     False  \n",
       "4174              2         0.886423     70.913876        Painting     False  \n",
       "4175              5         1.000000     38.000000        Painting     False  \n",
       "4176              2         1.000000    210.000000        Painting     False  \n",
       "4177              6         0.153226    467.339270        Painting     False  \n",
       "4178             17         1.000000   1285.000000        Painting     False  \n",
       "4179              0         1.000000      0.000000        Painting     False  \n",
       "4180              0         1.000000      0.000000        Painting     False  \n",
       "4181              2         1.000000     50.000000        Painting     False  \n",
       "4182              2         1.420884    220.237088        Painting     False  \n",
       "4183              6         1.000000    155.000000        Painting     False  \n",
       "\n",
       "[4184 rows x 14 columns]>"
      ]
     },
<<<<<<< HEAD
     "execution_count": 5,
=======
     "execution_count": 89,
>>>>>>> 92f6c34c230fd5a52c17a3c3967713f46370d340
     "metadata": {},
     "output_type": "execute_result"
    }
   ],
   "source": [
    "df.describe"
   ]
  },
  {
   "cell_type": "markdown",
   "metadata": {},
   "source": [
    "# Visualize and describe the distribution of pledged U.S. dollars (usd_pledged). These amounts represents the total funds raised in U.S. dollars for each project in the data set."
   ]
  },
  {
   "cell_type": "code",
<<<<<<< HEAD
   "execution_count": 6,
=======
   "execution_count": 90,
>>>>>>> 92f6c34c230fd5a52c17a3c3967713f46370d340
   "metadata": {
    "collapsed": false
   },
   "outputs": [
    {
     "data": {
      "image/png": "iVBORw0KGgoAAAANSUhEUgAAAgIAAAC8CAYAAAAKGsbgAAAABHNCSVQICAgIfAhkiAAAAAlwSFlz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\nDVMEAKBhigAANEwRAICGKQIA0LD/AzldKWXVPA27AAAAAElFTkSuQmCC\n",
      "text/plain": [
<<<<<<< HEAD
       "<matplotlib.figure.Figure at 0xbe8df60>"
=======
       "<matplotlib.figure.Figure at 0xdd10208>"
>>>>>>> 92f6c34c230fd5a52c17a3c3967713f46370d340
      ]
     },
     "metadata": {},
     "output_type": "display_data"
    }
   ],
   "source": [
    "fig = plt.figure()\n",
    "ax = fig.add_subplot(2,1,1)\n",
    "ax.boxplot(df.usd_pledged, 0,'rs',0)\n",
    "ax.set_xscale('log')"
   ]
  },
  {
   "cell_type": "code",
<<<<<<< HEAD
   "execution_count": 23,
=======
   "execution_count": 91,
>>>>>>> 92f6c34c230fd5a52c17a3c3967713f46370d340
   "metadata": {
    "collapsed": false
   },
   "outputs": [
    {
     "data": {
      "text/plain": [
<<<<<<< HEAD
       "<matplotlib.axes._subplots.AxesSubplot at 0xccbecc0>"
      ]
     },
     "execution_count": 23,
=======
       "(array([  4.10200000e+03,   4.50000000e+01,   1.80000000e+01,\n",
       "          7.00000000e+00,   2.00000000e+00,   2.00000000e+00,\n",
       "          4.00000000e+00,   1.00000000e+00,   0.00000000e+00,\n",
       "          3.00000000e+00]),\n",
       " array([      0.   ,   11111.177,   22222.354,   33333.531,   44444.708,\n",
       "          55555.885,   66667.062,   77778.239,   88889.416,  100000.593,\n",
       "         111111.77 ]),\n",
       " <a list of 10 Patch objects>)"
      ]
     },
     "execution_count": 91,
>>>>>>> 92f6c34c230fd5a52c17a3c3967713f46370d340
     "metadata": {},
     "output_type": "execute_result"
    },
    {
     "data": {
<<<<<<< HEAD
      "image/png": "iVBORw0KGgoAAAANSUhEUgAAAjgAAAF9CAYAAAAJCBK0AAAABHNCSVQICAgIfAhkiAAAAAlwSFlz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\n5z/2iKNFtH6fsQAAAABJRU5ErkJggg==\n",
      "text/plain": [
       "<matplotlib.figure.Figure at 0xd42a7f0>"
=======
      "image/png": "iVBORw0KGgoAAAANSUhEUgAAAiQAAAFoCAYAAABngeD6AAAABHNCSVQICAgIfAhkiAAAAAlwSFlz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\nYII=\n",
      "text/plain": [
       "<matplotlib.figure.Figure at 0xdd10c18>"
>>>>>>> 92f6c34c230fd5a52c17a3c3967713f46370d340
      ]
     },
     "metadata": {},
     "output_type": "display_data"
    }
   ],
   "source": [
<<<<<<< HEAD
    "sns.distplot(df.usd_pledged)"
=======
    "plt.hist(df.usd_pledged)"
>>>>>>> 92f6c34c230fd5a52c17a3c3967713f46370d340
   ]
  },
  {
   "cell_type": "markdown",
   "metadata": {},
   "source": [
    "# Visualize and describe the relationship between the number of backers (i.e., contributors) and pledged U.S. dollars. Also, report any quantitative results that may support your description."
   ]
  },
  {
   "cell_type": "code",
<<<<<<< HEAD
   "execution_count": 26,
=======
   "execution_count": 92,
>>>>>>> 92f6c34c230fd5a52c17a3c3967713f46370d340
   "metadata": {
    "collapsed": false
   },
   "outputs": [
    {
     "data": {
      "text/plain": [
<<<<<<< HEAD
       "<matplotlib.axes._subplots.AxesSubplot at 0xd5f05c0>"
      ]
     },
     "execution_count": 26,
=======
       "<matplotlib.collections.PathCollection at 0xd2ca748>"
      ]
     },
     "execution_count": 92,
>>>>>>> 92f6c34c230fd5a52c17a3c3967713f46370d340
     "metadata": {},
     "output_type": "execute_result"
    },
    {
     "data": {
<<<<<<< HEAD
      "image/png": "iVBORw0KGgoAAAANSUhEUgAAAjoAAAF9CAYAAAAN/cKJAAAABHNCSVQICAgIfAhkiAAAAAlwSFlz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\n",
      "text/plain": [
       "<matplotlib.figure.Figure at 0xd5f0b00>"
=======
      "image/png": "iVBORw0KGgoAAAANSUhEUgAAAiUAAAFoCAYAAACIQ4vEAAAABHNCSVQICAgIfAhkiAAAAAlwSFlz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\niISCQomIiIiEgkKJiIiIhML/DzNUT5hRbsRsAAAAAElFTkSuQmCC\n",
      "text/plain": [
       "<matplotlib.figure.Figure at 0xd272d30>"
>>>>>>> 92f6c34c230fd5a52c17a3c3967713f46370d340
      ]
     },
     "metadata": {},
     "output_type": "display_data"
    }
   ],
   "source": [
<<<<<<< HEAD
    "sns.regplot(df.usd_pledged, df.backers_count)"
=======
    "plt.scatter(df.usd_pledged, df.backers_count)"
>>>>>>> 92f6c34c230fd5a52c17a3c3967713f46370d340
   ]
  },
  {
   "cell_type": "markdown",
   "metadata": {},
   "source": [
    "# Calculate a new column that contains the ratio of pledged amounts to the goal amounts, then visualize the distribution of these ratios as a function of the state of the fundraising campaign (e.g., successful, failed, etc.). How do the distributions compare to each other? "
   ]
  },
  {
   "cell_type": "code",
<<<<<<< HEAD
   "execution_count": 9,
=======
   "execution_count": 93,
>>>>>>> 92f6c34c230fd5a52c17a3c3967713f46370d340
   "metadata": {
    "collapsed": true
   },
   "outputs": [],
   "source": [
    "nc =[]"
   ]
  },
  {
   "cell_type": "code",
<<<<<<< HEAD
   "execution_count": 10,
=======
   "execution_count": 94,
>>>>>>> 92f6c34c230fd5a52c17a3c3967713f46370d340
   "metadata": {
    "collapsed": true
   },
   "outputs": [],
   "source": [
    "nc = (df.pledged/df.goal)"
   ]
  },
  {
   "cell_type": "code",
<<<<<<< HEAD
   "execution_count": 11,
=======
   "execution_count": 95,
>>>>>>> 92f6c34c230fd5a52c17a3c3967713f46370d340
   "metadata": {
    "collapsed": false
   },
   "outputs": [],
   "source": [
    "df['Ratio'] = nc "
   ]
  },
  {
   "cell_type": "code",
<<<<<<< HEAD
   "execution_count": 12,
=======
   "execution_count": 96,
>>>>>>> 92f6c34c230fd5a52c17a3c3967713f46370d340
   "metadata": {
    "collapsed": false
   },
   "outputs": [
    {
     "name": "stdout",
     "output_type": "stream",
     "text": [
      "['Conceptual Art' 'Digital Art' 'Illustration' 'Painting' 'Ceramics']\n"
     ]
    }
   ],
   "source": [
    "categories = df.category.unique()\n",
    "print(categories)"
   ]
  },
  {
   "cell_type": "code",
<<<<<<< HEAD
   "execution_count": 13,
=======
   "execution_count": 97,
>>>>>>> 92f6c34c230fd5a52c17a3c3967713f46370d340
   "metadata": {
    "collapsed": false
   },
   "outputs": [],
   "source": [
    "dfbuffer1 = df[df.category == 'Conceptual Art']\n",
    "dfbuffer2 = df[df.category == 'Digital Art']\n",
    "dfbuffer3 = df[df.category == 'Illustration']\n",
    "dfbuffer4 = df[df.category == 'Painting']\n",
    "dfbuffer5 = df[df.category == 'Ceramics']"
   ]
  },
  {
   "cell_type": "code",
<<<<<<< HEAD
   "execution_count": 14,
=======
   "execution_count": 98,
>>>>>>> 92f6c34c230fd5a52c17a3c3967713f46370d340
   "metadata": {
    "collapsed": false
   },
   "outputs": [],
   "source": [
    "x1 = []\n",
    "x2 = []\n",
    "x3 = []\n",
    "x4 = []\n",
    "x5 = []\n",
    "for i in dfbuffer1.Ratio:\n",
    "           x1.append(i)\n",
    "for i in dfbuffer2.Ratio:\n",
    "           x2.append(i)\n",
    "for i in dfbuffer3.Ratio:\n",
    "           x3.append(i)\n",
    "for i in dfbuffer4.Ratio:\n",
    "           x4.append(i)\n",
    "for i in dfbuffer5.Ratio:\n",
    "           x5.append(i)"
   ]
  },
  {
   "cell_type": "code",
<<<<<<< HEAD
   "execution_count": 15,
=======
   "execution_count": 99,
>>>>>>> 92f6c34c230fd5a52c17a3c3967713f46370d340
   "metadata": {
    "collapsed": false
   },
   "outputs": [],
   "source": [
    "data_to_plot = [x1, x2, x3, x4, x5]"
   ]
  },
  {
   "cell_type": "code",
<<<<<<< HEAD
   "execution_count": 21,
=======
   "execution_count": 100,
>>>>>>> 92f6c34c230fd5a52c17a3c3967713f46370d340
   "metadata": {
    "collapsed": false
   },
   "outputs": [
    {
     "data": {
      "image/png": "iVBORw0KGgoAAAANSUhEUgAAAuoAAAIACAYAAADUuElCAAAABHNCSVQICAgIfAhkiAAAAAlwSFlz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\n9P8DHCZE0zbrzHMAAAAASUVORK5CYII=\n",
      "text/plain": [
<<<<<<< HEAD
       "<matplotlib.figure.Figure at 0xccbeb38>"
=======
       "<matplotlib.figure.Figure at 0xd321a58>"
>>>>>>> 92f6c34c230fd5a52c17a3c3967713f46370d340
      ]
     },
     "metadata": {},
     "output_type": "display_data"
    }
   ],
   "source": [
    "# Create a figure instance\n",
    "fig = plt.figure(1, figsize=(9, 6))\n",
    "\n",
    "# Create an axes instance\n",
    "ax = fig.add_subplot(111)\n",
    "\n",
    "# Create the boxplot\n",
    "bp = ax.boxplot(data_to_plot,  0,'rs',0)\n",
    "ax.set_xscale('log')"
   ]
  },
  {
   "cell_type": "markdown",
   "metadata": {
    "collapsed": false
   },
   "source": [
    "# What is the success rate for campaigns as a function of the campaign category? You may consider only successful and failed campaigns (i.e., you may ignore live, suspended, or cancelled campaigns). Comment on any trends you observe relative to success rates across different campaign categories. What is the mean pledged U.S. dollars for successful campaigns as a function of each campaign category? Which category earns the highest pledged U.S. dollars on average?"
   ]
  },
  {
   "cell_type": "code",
<<<<<<< HEAD
   "execution_count": 17,
=======
   "execution_count": 101,
>>>>>>> 92f6c34c230fd5a52c17a3c3967713f46370d340
   "metadata": {
    "collapsed": false
   },
   "outputs": [
    {
     "name": "stdout",
     "output_type": "stream",
     "text": [
      "Conceptual Art:40.5541561713%\n",
      "Mean USD pledge for succesful campaigns of this category is = 3580.38768163\n",
      "\n",
      "\n",
      "Digital Art:31.3253012048%\n",
      "Mean USD pledge for succesful campaigns of this category is = 6304.50040695\n",
      "\n",
      "\n",
      "Illustration:0%\n",
      "Mean USD pledge for succesful campaigns of this category is = 0\n",
      "\n",
      "\n",
      "Painting:0%\n",
      "Mean USD pledge for succesful campaigns of this category is = 0\n",
      "\n",
      "\n",
      "Ceramics:45.9016393443%\n",
      "Mean USD pledge for succesful campaigns of this category is = 10824.8128594\n",
      "\n",
      "\n"
     ]
    }
   ],
   "source": [
    "for i in categories:\n",
    "    x = df[(df.category == i) & (df.state == 'successful')]\n",
    "    a = float(x['state'].count())\n",
    "    MeanAvg = x['usd_pledged'].mean()\n",
    "    y = df[(df.category == i) & (df.state == 'failed')]\n",
    "    b = float(y['state'].count())\n",
    "    if a == 0:\n",
    "        print(i + ':' + str(0)+ '%')\n",
    "        print('Mean USD pledge for succesful campaigns of this category is = ' + str(0))\n",
    "    elif b == 0:\n",
    "        print(i + ':' + str(100) + '%')\n",
    "        print('Mean USD pledge for succesful campaigns of this category is = ' + str(MeanAvg))\n",
    "    else :\n",
    "        print(i + ':' + str((a/(a+b))*100) + '%')\n",
    "        print('Mean USD pledge for succesful campaigns of this category is = ' + str(MeanAvg))\n",
    "    print('\\n')"
   ]
  },
  {
   "cell_type": "code",
   "execution_count": null,
   "metadata": {
    "collapsed": true
   },
   "outputs": [],
   "source": []
  }
 ],
 "metadata": {
  "anaconda-cloud": {},
  "kernelspec": {
   "display_name": "Python [conda root]",
   "language": "python",
   "name": "conda-root-py"
  },
  "language_info": {
   "codemirror_mode": {
    "name": "ipython",
    "version": 2
   },
   "file_extension": ".py",
   "mimetype": "text/x-python",
   "name": "python",
   "nbconvert_exporter": "python",
   "pygments_lexer": "ipython2",
   "version": "2.7.12"
  }
 },
 "nbformat": 4,
 "nbformat_minor": 1
}
