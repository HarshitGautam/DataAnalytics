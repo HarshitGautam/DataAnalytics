{
 "cells": [
  {
   "cell_type": "code",
   "execution_count": 85,
   "metadata": {
    "collapsed": true
   },
   "outputs": [],
   "source": [
    "import pandas as pd;\n",
    "import numpy as np\n",
    "import seaborn as sns\n",
    "import matplotlib.pyplot as plt"
   ]
  },
  {
   "cell_type": "code",
   "execution_count": 86,
   "metadata": {
    "collapsed": true
   },
   "outputs": [],
   "source": [
    "%matplotlib inline"
   ]
  },
  {
   "cell_type": "code",
   "execution_count": 87,
   "metadata": {
    "collapsed": false
   },
   "outputs": [],
   "source": [
    "df = pd.read_csv('C:/Users/hgsgautam/Desktop/Python/PythonGIT/kickstarter.csv')"
   ]
  },
  {
   "cell_type": "code",
   "execution_count": 88,
   "metadata": {
    "collapsed": false
   },
   "outputs": [
    {
     "data": {
      "text/html": [
       "<div>\n",
       "<table border=\"1\" class=\"dataframe\">\n",
       "  <thead>\n",
       "    <tr style=\"text-align: right;\">\n",
       "      <th></th>\n",
       "      <th>id</th>\n",
       "      <th>name</th>\n",
       "      <th>goal</th>\n",
       "      <th>pledged</th>\n",
       "      <th>state</th>\n",
       "      <th>country</th>\n",
       "      <th>currency</th>\n",
       "      <th>currency_trailing_code</th>\n",
       "      <th>staff_pick</th>\n",
       "      <th>backers_count</th>\n",
       "      <th>static_usd_rate</th>\n",
       "      <th>usd_pledged</th>\n",
       "      <th>category</th>\n",
       "      <th>spotlight</th>\n",
       "    </tr>\n",
       "  </thead>\n",
       "  <tbody>\n",
       "    <tr>\n",
       "      <th>0</th>\n",
       "      <td>1526127826</td>\n",
       "      <td>conceptual-waist-aprons</td>\n",
       "      <td>300.0</td>\n",
       "      <td>321.00</td>\n",
       "      <td>successful</td>\n",
       "      <td>US</td>\n",
       "      <td>USD</td>\n",
       "      <td>True</td>\n",
       "      <td>False</td>\n",
       "      <td>18</td>\n",
       "      <td>1.000000</td>\n",
       "      <td>321.000000</td>\n",
       "      <td>Conceptual Art</td>\n",
       "      <td>True</td>\n",
       "    </tr>\n",
       "    <tr>\n",
       "      <th>1</th>\n",
       "      <td>2007987502</td>\n",
       "      <td>mjolby-porslinsravsmuseum-pin</td>\n",
       "      <td>3000.0</td>\n",
       "      <td>7070.00</td>\n",
       "      <td>successful</td>\n",
       "      <td>SE</td>\n",
       "      <td>SEK</td>\n",
       "      <td>True</td>\n",
       "      <td>False</td>\n",
       "      <td>79</td>\n",
       "      <td>0.121226</td>\n",
       "      <td>857.068103</td>\n",
       "      <td>Conceptual Art</td>\n",
       "      <td>True</td>\n",
       "    </tr>\n",
       "    <tr>\n",
       "      <th>2</th>\n",
       "      <td>1075407414</td>\n",
       "      <td>cool-dog-annual-sticker-fund-2016</td>\n",
       "      <td>3200.0</td>\n",
       "      <td>4431.12</td>\n",
       "      <td>successful</td>\n",
       "      <td>US</td>\n",
       "      <td>USD</td>\n",
       "      <td>True</td>\n",
       "      <td>False</td>\n",
       "      <td>148</td>\n",
       "      <td>1.000000</td>\n",
       "      <td>4431.120000</td>\n",
       "      <td>Conceptual Art</td>\n",
       "      <td>True</td>\n",
       "    </tr>\n",
       "    <tr>\n",
       "      <th>3</th>\n",
       "      <td>1038608633</td>\n",
       "      <td>uss-coral-sea-cvb-cva-cv-43-commemorative-chal...</td>\n",
       "      <td>2100.0</td>\n",
       "      <td>2500.00</td>\n",
       "      <td>successful</td>\n",
       "      <td>US</td>\n",
       "      <td>USD</td>\n",
       "      <td>True</td>\n",
       "      <td>False</td>\n",
       "      <td>56</td>\n",
       "      <td>1.000000</td>\n",
       "      <td>2500.000000</td>\n",
       "      <td>Conceptual Art</td>\n",
       "      <td>True</td>\n",
       "    </tr>\n",
       "    <tr>\n",
       "      <th>4</th>\n",
       "      <td>451699826</td>\n",
       "      <td>amrita-bottles-inc</td>\n",
       "      <td>1950.0</td>\n",
       "      <td>2240.00</td>\n",
       "      <td>successful</td>\n",
       "      <td>US</td>\n",
       "      <td>USD</td>\n",
       "      <td>True</td>\n",
       "      <td>False</td>\n",
       "      <td>31</td>\n",
       "      <td>1.000000</td>\n",
       "      <td>2240.000000</td>\n",
       "      <td>Conceptual Art</td>\n",
       "      <td>True</td>\n",
       "    </tr>\n",
       "    <tr>\n",
       "      <th>5</th>\n",
       "      <td>1765015841</td>\n",
       "      <td>draw-like-a-boss</td>\n",
       "      <td>30000.0</td>\n",
       "      <td>51833.32</td>\n",
       "      <td>successful</td>\n",
       "      <td>GB</td>\n",
       "      <td>GBP</td>\n",
       "      <td>False</td>\n",
       "      <td>False</td>\n",
       "      <td>1633</td>\n",
       "      <td>1.551660</td>\n",
       "      <td>80427.699680</td>\n",
       "      <td>Conceptual Art</td>\n",
       "      <td>True</td>\n",
       "    </tr>\n",
       "    <tr>\n",
       "      <th>6</th>\n",
       "      <td>1881968040</td>\n",
       "      <td>art-and-soul-body-painting-self-acceptance-aft...</td>\n",
       "      <td>300.0</td>\n",
       "      <td>322.00</td>\n",
       "      <td>successful</td>\n",
       "      <td>US</td>\n",
       "      <td>USD</td>\n",
       "      <td>True</td>\n",
       "      <td>False</td>\n",
       "      <td>14</td>\n",
       "      <td>1.000000</td>\n",
       "      <td>322.000000</td>\n",
       "      <td>Conceptual Art</td>\n",
       "      <td>True</td>\n",
       "    </tr>\n",
       "    <tr>\n",
       "      <th>7</th>\n",
       "      <td>1624053431</td>\n",
       "      <td>art-of-words-pop-artist</td>\n",
       "      <td>12000.0</td>\n",
       "      <td>12568.00</td>\n",
       "      <td>successful</td>\n",
       "      <td>US</td>\n",
       "      <td>USD</td>\n",
       "      <td>True</td>\n",
       "      <td>False</td>\n",
       "      <td>148</td>\n",
       "      <td>1.000000</td>\n",
       "      <td>12568.000000</td>\n",
       "      <td>Conceptual Art</td>\n",
       "      <td>True</td>\n",
       "    </tr>\n",
       "    <tr>\n",
       "      <th>8</th>\n",
       "      <td>759609400</td>\n",
       "      <td>the-new-oklahomaa-plan-to-improve-the-worst-pa...</td>\n",
       "      <td>100.0</td>\n",
       "      <td>1060.01</td>\n",
       "      <td>successful</td>\n",
       "      <td>US</td>\n",
       "      <td>USD</td>\n",
       "      <td>True</td>\n",
       "      <td>False</td>\n",
       "      <td>50</td>\n",
       "      <td>1.000000</td>\n",
       "      <td>1060.010000</td>\n",
       "      <td>Conceptual Art</td>\n",
       "      <td>True</td>\n",
       "    </tr>\n",
       "    <tr>\n",
       "      <th>9</th>\n",
       "      <td>96887393</td>\n",
       "      <td>mapping-budapest-budpst</td>\n",
       "      <td>500.0</td>\n",
       "      <td>615.00</td>\n",
       "      <td>successful</td>\n",
       "      <td>GB</td>\n",
       "      <td>GBP</td>\n",
       "      <td>False</td>\n",
       "      <td>False</td>\n",
       "      <td>34</td>\n",
       "      <td>1.520110</td>\n",
       "      <td>934.867835</td>\n",
       "      <td>Conceptual Art</td>\n",
       "      <td>True</td>\n",
       "    </tr>\n",
       "  </tbody>\n",
       "</table>\n",
       "</div>"
      ],
      "text/plain": [
       "           id                                               name     goal  \\\n",
       "0  1526127826                            conceptual-waist-aprons    300.0   \n",
       "1  2007987502                      mjolby-porslinsravsmuseum-pin   3000.0   \n",
       "2  1075407414                  cool-dog-annual-sticker-fund-2016   3200.0   \n",
       "3  1038608633  uss-coral-sea-cvb-cva-cv-43-commemorative-chal...   2100.0   \n",
       "4   451699826                                 amrita-bottles-inc   1950.0   \n",
       "5  1765015841                                   draw-like-a-boss  30000.0   \n",
       "6  1881968040  art-and-soul-body-painting-self-acceptance-aft...    300.0   \n",
       "7  1624053431                            art-of-words-pop-artist  12000.0   \n",
       "8   759609400  the-new-oklahomaa-plan-to-improve-the-worst-pa...    100.0   \n",
       "9    96887393                            mapping-budapest-budpst    500.0   \n",
       "\n",
       "    pledged       state country currency currency_trailing_code staff_pick  \\\n",
       "0    321.00  successful      US      USD                   True      False   \n",
       "1   7070.00  successful      SE      SEK                   True      False   \n",
       "2   4431.12  successful      US      USD                   True      False   \n",
       "3   2500.00  successful      US      USD                   True      False   \n",
       "4   2240.00  successful      US      USD                   True      False   \n",
       "5  51833.32  successful      GB      GBP                  False      False   \n",
       "6    322.00  successful      US      USD                   True      False   \n",
       "7  12568.00  successful      US      USD                   True      False   \n",
       "8   1060.01  successful      US      USD                   True      False   \n",
       "9    615.00  successful      GB      GBP                  False      False   \n",
       "\n",
       "   backers_count  static_usd_rate   usd_pledged        category spotlight  \n",
       "0             18         1.000000    321.000000  Conceptual Art      True  \n",
       "1             79         0.121226    857.068103  Conceptual Art      True  \n",
       "2            148         1.000000   4431.120000  Conceptual Art      True  \n",
       "3             56         1.000000   2500.000000  Conceptual Art      True  \n",
       "4             31         1.000000   2240.000000  Conceptual Art      True  \n",
       "5           1633         1.551660  80427.699680  Conceptual Art      True  \n",
       "6             14         1.000000    322.000000  Conceptual Art      True  \n",
       "7            148         1.000000  12568.000000  Conceptual Art      True  \n",
       "8             50         1.000000   1060.010000  Conceptual Art      True  \n",
       "9             34         1.520110    934.867835  Conceptual Art      True  "
      ]
     },
     "execution_count": 88,
     "metadata": {},
     "output_type": "execute_result"
    }
   ],
   "source": [
    "df.head(10)"
   ]
  },
  {
   "cell_type": "code",
   "execution_count": 89,
   "metadata": {
    "collapsed": false
   },
   "outputs": [
    {
     "data": {
      "text/plain": [
       "<bound method DataFrame.describe of               id                                               name      goal  \\\n",
       "0     1526127826                            conceptual-waist-aprons     300.0   \n",
       "1     2007987502                      mjolby-porslinsravsmuseum-pin    3000.0   \n",
       "2     1075407414                  cool-dog-annual-sticker-fund-2016    3200.0   \n",
       "3     1038608633  uss-coral-sea-cvb-cva-cv-43-commemorative-chal...    2100.0   \n",
       "4      451699826                                 amrita-bottles-inc    1950.0   \n",
       "5     1765015841                                   draw-like-a-boss   30000.0   \n",
       "6     1881968040  art-and-soul-body-painting-self-acceptance-aft...     300.0   \n",
       "7     1624053431                            art-of-words-pop-artist   12000.0   \n",
       "8      759609400  the-new-oklahomaa-plan-to-improve-the-worst-pa...     100.0   \n",
       "9       96887393                            mapping-budapest-budpst     500.0   \n",
       "10    1812065143                                      southern-rims    1500.0   \n",
       "11    1211451479       help-alexi-era-gallerys-relocation-to-oregon   15000.0   \n",
       "12     966852264                                          pulse-art     200.0   \n",
       "13     903875893                   unique-original-art-just-for-you     800.0   \n",
       "14     433802709     fjuk-artist-residency-performance-installation    3000.0   \n",
       "15    1673846410   existential-alleviation-40-days-bicycling-a-book     800.0   \n",
       "16    2059892440                                      studio-subway     500.0   \n",
       "17     142462051     and-again-university-of-leeds-degree-show-2016     500.0   \n",
       "18     297312144                                        illuminated    3500.0   \n",
       "19     678795038                        an-imaginary-map-of-reading     150.0   \n",
       "20     621706600  9-ways-to-say-its-over-a-film-and-photography-...    2000.0   \n",
       "21    1968477591          experience-the-commonwealth-of-new-island    3500.0   \n",
       "22     397420745              an-experiment-in-space-and-sound-duet    2400.0   \n",
       "23    1060238474  museum-of-non-visible-art-praxis-and-james-franco    5000.0   \n",
       "24     141446734                                          number-34    2000.0   \n",
       "25    1912195897  i-heart-my-attitude-collection-the-store-goes-...    4499.0   \n",
       "26     121072620                                     meme-the-world    5000.0   \n",
       "27    1010649633                    future-phenomena-amanda-browder     800.0   \n",
       "28    2029600232  the-tumbleweed-collective-revealing-america-on...     600.0   \n",
       "29    2080353391                                       glitter-gold    2000.0   \n",
       "...          ...                                                ...       ...   \n",
       "4154   387442765               k2-design-llc-limited-edition-prints   18000.0   \n",
       "4155  1368625486                                           round-up    3000.0   \n",
       "4156  1048392215                                      kyta-paintart     500.0   \n",
       "4157   866737218          the-view-out-portraits-of-the-sea-and-sky    7000.0   \n",
       "4158  1764521239                                  new-york-art-show    7000.0   \n",
       "4159   683865116  art-exhibit-drawing-painting-digital-illustration    7000.0   \n",
       "4160    71893729  dreams-of-telluride-a-plein-air-painting-chall...    4930.0   \n",
       "4161  1970080088        the-sixtoeight-exhibit-surfing-through-life   20000.0   \n",
       "4162  1908034435         life-drawing-classes-at-melrose-lightspace    1000.0   \n",
       "4163  2018614809                   2014-dia-de-los-muertos-calendar    3000.0   \n",
       "4164  1510426913   art-for-rent-custom-artwork-to-fund-living-space     500.0   \n",
       "4165    73713218                         launch-50-colorado-artists   12500.0   \n",
       "4166  1857451908                           series-of-baby-portraits    2700.0   \n",
       "4167  1542863126                    panel-makers-marks-on-paintings  580000.0   \n",
       "4168  1571369944                              abstract-oil-painting     500.0   \n",
       "4169   242607068                pesipop-loves-you-love-pesipop-back    4000.0   \n",
       "4170  1662187605           the-leroy-miranda-pop-up-gallery-project   30000.0   \n",
       "4171  1512025543            heather-kapteyn-premier-collection-2015    1950.0   \n",
       "4172  1332393133                                    getting-noticed   10000.0   \n",
       "4173  1871042595                      sunflower-seeds-art-paintings    5000.0   \n",
       "4174  1273626113                                     orchid-studios     300.0   \n",
       "4175  1626001698                        prapatas-art-from-the-heart    2500.0   \n",
       "4176   786119391  sponsor-pointillistic-artist-4-the-2017-floren...   20000.0   \n",
       "4177   542562325                            my-first-art-exhibition   15000.0   \n",
       "4178  1045784902  skydiving-artist-trains-for-world-record-and-d...   55000.0   \n",
       "4179   946128614                          perfect-joy-oil-paintings     665.0   \n",
       "4180   775858055  promote-validated-squaring-the-circle-as-a-pai...   80000.0   \n",
       "4181  1327025806  padmajala-84-maha-siddha-master-quality-thangk...  132300.0   \n",
       "4182  1466235077          the-charlie-chittenden-portrait-challenge    7500.0   \n",
       "4183  1578366283                         the-imagine-us-here-portal    2000.0   \n",
       "\n",
       "       pledged       state country currency currency_trailing_code staff_pick  \\\n",
       "0       321.00  successful      US      USD                   True      False   \n",
       "1      7070.00  successful      SE      SEK                   True      False   \n",
       "2      4431.12  successful      US      USD                   True      False   \n",
       "3      2500.00  successful      US      USD                   True      False   \n",
       "4      2240.00  successful      US      USD                   True      False   \n",
       "5     51833.32  successful      GB      GBP                  False      False   \n",
       "6       322.00  successful      US      USD                   True      False   \n",
       "7     12568.00  successful      US      USD                   True      False   \n",
       "8      1060.01  successful      US      USD                   True      False   \n",
       "9       615.00  successful      GB      GBP                  False      False   \n",
       "10     1536.00  successful      US      USD                   True      False   \n",
       "11    24584.00  successful      US      USD                   True      False   \n",
       "12      239.00  successful      FR      EUR                  False      False   \n",
       "13      881.00  successful      CA      CAD                   True      False   \n",
       "14     4569.00  successful      US      USD                   True      False   \n",
       "15     1071.00  successful      US      USD                   True      False   \n",
       "16      508.00  successful      US      USD                   True      False   \n",
       "17      757.00  successful      GB      GBP                  False      False   \n",
       "18     4532.00  successful      US      USD                   True      False   \n",
       "19      185.00  successful      US      USD                   True      False   \n",
       "20     2166.00  successful      GB      GBP                  False       True   \n",
       "21     5739.00  successful      US      USD                   True       True   \n",
       "22     2455.00  successful      US      USD                   True       True   \n",
       "23    16197.01  successful      US      USD                   True       True   \n",
       "24     2760.00  successful      US      USD                   True       True   \n",
       "25     4580.00  successful      US      USD                   True       True   \n",
       "26     5258.00  successful      US      USD                   True       True   \n",
       "27     1064.00  successful      US      USD                   True       True   \n",
       "28      833.36  successful      US      USD                   True       True   \n",
       "29     2095.00  successful      US      USD                   True       True   \n",
       "...        ...         ...     ...      ...                    ...        ...   \n",
       "4154      1.00      failed      US      USD                   True      False   \n",
       "4155   1055.00      failed      US      USD                   True      False   \n",
       "4156      0.00      failed      US      USD                   True      False   \n",
       "4157    635.00      failed      US      USD                   True      False   \n",
       "4158     50.00      failed      US      USD                   True      False   \n",
       "4159   3561.00      failed      US      USD                   True      False   \n",
       "4160   3920.00      failed      US      USD                   True      False   \n",
       "4161    295.00      failed      US      USD                   True      False   \n",
       "4162     10.00      failed      US      USD                   True      False   \n",
       "4163    453.00      failed      US      USD                   True      False   \n",
       "4164     12.00      failed      US      USD                   True      False   \n",
       "4165    256.00      failed      US      USD                   True      False   \n",
       "4166     40.00      failed      US      USD                   True      False   \n",
       "4167      0.00      failed      DK      DKK                   True      False   \n",
       "4168     95.00      failed      US      USD                   True      False   \n",
       "4169   1125.00      failed      US      USD                   True      False   \n",
       "4170     30.00      failed      US      USD                   True      False   \n",
       "4171    337.00      failed      US      USD                   True      False   \n",
       "4172      0.00      failed      US      USD                   True      False   \n",
       "4173      0.00      failed      US      USD                   True      False   \n",
       "4174     80.00      failed      CA      CAD                   True      False   \n",
       "4175     38.00      failed      US      USD                   True      False   \n",
       "4176    210.00      failed      US      USD                   True      False   \n",
       "4177   3050.00      failed      DK      DKK                   True      False   \n",
       "4178   1285.00      failed      US      USD                   True      False   \n",
       "4179      0.00      failed      US      USD                   True      False   \n",
       "4180      0.00      failed      US      USD                   True      False   \n",
       "4181     50.00      failed      US      USD                   True      False   \n",
       "4182    155.00      failed      GB      GBP                  False      False   \n",
       "4183    155.00      failed      US      USD                   True      False   \n",
       "\n",
       "      backers_count  static_usd_rate   usd_pledged        category spotlight  \n",
       "0                18         1.000000    321.000000  Conceptual Art      True  \n",
       "1                79         0.121226    857.068103  Conceptual Art      True  \n",
       "2               148         1.000000   4431.120000  Conceptual Art      True  \n",
       "3                56         1.000000   2500.000000  Conceptual Art      True  \n",
       "4                31         1.000000   2240.000000  Conceptual Art      True  \n",
       "5              1633         1.551660  80427.699680  Conceptual Art      True  \n",
       "6                14         1.000000    322.000000  Conceptual Art      True  \n",
       "7               148         1.000000  12568.000000  Conceptual Art      True  \n",
       "8                50         1.000000   1060.010000  Conceptual Art      True  \n",
       "9                34         1.520110    934.867835  Conceptual Art      True  \n",
       "10               25         1.000000   1536.000000  Conceptual Art      True  \n",
       "11              195         1.000000  24584.000000  Conceptual Art      True  \n",
       "12                7         1.122460    268.268043  Conceptual Art      True  \n",
       "13               22         0.795465    700.804295  Conceptual Art      True  \n",
       "14               50         1.000000   4569.000000  Conceptual Art      True  \n",
       "15               18         1.000000   1071.000000  Conceptual Art      True  \n",
       "16               18         1.000000    508.000000  Conceptual Art      True  \n",
       "17               27         1.443262   1092.549160  Conceptual Art      True  \n",
       "18               19         1.000000   4532.000000  Conceptual Art      True  \n",
       "19                8         1.000000    185.000000  Conceptual Art      True  \n",
       "20               50         1.542232   3340.473862  Conceptual Art      True  \n",
       "21               79         1.000000   5739.000000  Conceptual Art      True  \n",
       "22               44         1.000000   2455.000000  Conceptual Art      True  \n",
       "23              164         1.000000  16197.010000  Conceptual Art      True  \n",
       "24               47         1.000000   2760.000000  Conceptual Art      True  \n",
       "25               70         1.000000   4580.000000  Conceptual Art      True  \n",
       "26               87         1.000000   5258.000000  Conceptual Art      True  \n",
       "27               25         1.000000   1064.000000  Conceptual Art      True  \n",
       "28               33         1.000000    833.360000  Conceptual Art      True  \n",
       "29               48         1.000000   2095.000000  Conceptual Art      True  \n",
       "...             ...              ...           ...             ...       ...  \n",
       "4154              1         1.000000      1.000000        Painting     False  \n",
       "4155             14         1.000000   1055.000000        Painting     False  \n",
       "4156              0         1.000000      0.000000        Painting     False  \n",
       "4157              4         1.000000    635.000000        Painting     False  \n",
       "4158              2         1.000000     50.000000        Painting     False  \n",
       "4159             60         1.000000   3561.000000        Painting     False  \n",
       "4160             11         1.000000   3920.000000        Painting     False  \n",
       "4161              6         1.000000    295.000000        Painting     False  \n",
       "4162              1         1.000000     10.000000        Painting     False  \n",
       "4163             10         1.000000    453.000000        Painting     False  \n",
       "4164              1         1.000000     12.000000        Painting     False  \n",
       "4165              5         1.000000    256.000000        Painting     False  \n",
       "4166              2         1.000000     40.000000        Painting     False  \n",
       "4167              0         0.149488      0.000000        Painting     False  \n",
       "4168              3         1.000000     95.000000        Painting     False  \n",
       "4169             10         1.000000   1125.000000        Painting     False  \n",
       "4170              2         1.000000     30.000000        Painting     False  \n",
       "4171              5         1.000000    337.000000        Painting     False  \n",
       "4172              0         1.000000      0.000000        Painting     False  \n",
       "4173              0         1.000000      0.000000        Painting     False  \n",
       "4174              2         0.886423     70.913876        Painting     False  \n",
       "4175              5         1.000000     38.000000        Painting     False  \n",
       "4176              2         1.000000    210.000000        Painting     False  \n",
       "4177              6         0.153226    467.339270        Painting     False  \n",
       "4178             17         1.000000   1285.000000        Painting     False  \n",
       "4179              0         1.000000      0.000000        Painting     False  \n",
       "4180              0         1.000000      0.000000        Painting     False  \n",
       "4181              2         1.000000     50.000000        Painting     False  \n",
       "4182              2         1.420884    220.237088        Painting     False  \n",
       "4183              6         1.000000    155.000000        Painting     False  \n",
       "\n",
       "[4184 rows x 14 columns]>"
      ]
     },
     "execution_count": 89,
     "metadata": {},
     "output_type": "execute_result"
    }
   ],
   "source": [
    "df.describe"
   ]
  },
  {
   "cell_type": "markdown",
   "metadata": {},
   "source": [
    "# Visualize and describe the distribution of pledged U.S. dollars (usd_pledged). These amounts represents the total funds raised in U.S. dollars for each project in the data set."
   ]
  },
  {
   "cell_type": "code",
   "execution_count": 90,
   "metadata": {
    "collapsed": false
   },
   "outputs": [
    {
     "data": {
      "image/png": "[encoded data removed]",
      "text/plain": [
       "<matplotlib.figure.Figure at 0xdd10208>"
      ]
     },
     "metadata": {},
     "output_type": "display_data"
    }
   ],
   "source": [
    "fig = plt.figure()\n",
    "ax = fig.add_subplot(2,1,1)\n",
    "ax.boxplot(df.usd_pledged, 0,'rs',0)\n",
    "ax.set_xscale('log')"
   ]
  },
  {
   "cell_type": "code",
   "execution_count": 91,
   "metadata": {
    "collapsed": false
   },
   "outputs": [
    {
     "data": {
      "text/plain": [
       "(array([  4.10200000e+03,   4.50000000e+01,   1.80000000e+01,\n",
       "          7.00000000e+00,   2.00000000e+00,   2.00000000e+00,\n",
       "          4.00000000e+00,   1.00000000e+00,   0.00000000e+00,\n",
       "          3.00000000e+00]),\n",
       " array([      0.   ,   11111.177,   22222.354,   33333.531,   44444.708,\n",
       "          55555.885,   66667.062,   77778.239,   88889.416,  100000.593,\n",
       "         111111.77 ]),\n",
       " <a list of 10 Patch objects>)"
      ]
     },
     "execution_count": 91,
     "metadata": {},
     "output_type": "execute_result"
    },
    {
     "data": {
      "image/png": "[encoded data removed]",
      "text/plain": [
       "<matplotlib.figure.Figure at 0xdd10c18>"
      ]
     },
     "metadata": {},
     "output_type": "display_data"
    }
   ],
   "source": [
    "plt.hist(df.usd_pledged)"
   ]
  },
  {
   "cell_type": "markdown",
   "metadata": {},
   "source": [
    "# Visualize and describe the relationship between the number of backers (i.e., contributors) and pledged U.S. dollars. Also, report any quantitative results that may support your description."
   ]
  },
  {
   "cell_type": "code",
   "execution_count": 92,
   "metadata": {
    "collapsed": false
   },
   "outputs": [
    {
     "data": {
      "text/plain": [
       "<matplotlib.collections.PathCollection at 0xd2ca748>"
      ]
     },
     "execution_count": 92,
     "metadata": {},
     "output_type": "execute_result"
    },
    {
     "data": {
      "image/png": "[encoded data removed]",
      "text/plain": [
       "<matplotlib.figure.Figure at 0xd272d30>"
      ]
     },
     "metadata": {},
     "output_type": "display_data"
    }
   ],
   "source": [
    "plt.scatter(df.usd_pledged, df.backers_count)"
   ]
  },
  {
   "cell_type": "markdown",
   "metadata": {},
   "source": [
    "# Calculate a new column that contains the ratio of pledged amounts to the goal amounts, then visualize the distribution of these ratios as a function of the state of the fundraising campaign (e.g., successful, failed, etc.). How do the distributions compare to each other? "
   ]
  },
  {
   "cell_type": "code",
   "execution_count": 93,
   "metadata": {
    "collapsed": true
   },
   "outputs": [],
   "source": [
    "nc =[]"
   ]
  },
  {
   "cell_type": "code",
   "execution_count": 94,
   "metadata": {
    "collapsed": true
   },
   "outputs": [],
   "source": [
    "nc = (df.pledged/df.goal)"
   ]
  },
  {
   "cell_type": "code",
   "execution_count": 95,
   "metadata": {
    "collapsed": false
   },
   "outputs": [],
   "source": [
    "df['Ratio'] = nc "
   ]
  },
  {
   "cell_type": "code",
   "execution_count": 96,
   "metadata": {
    "collapsed": false
   },
   "outputs": [
    {
     "name": "stdout",
     "output_type": "stream",
     "text": [
      "['Conceptual Art' 'Digital Art' 'Illustration' 'Painting' 'Ceramics']\n"
     ]
    }
   ],
   "source": [
    "categories = df.category.unique()\n",
    "print(categories)"
   ]
  },
  {
   "cell_type": "code",
   "execution_count": 97,
   "metadata": {
    "collapsed": false
   },
   "outputs": [],
   "source": [
    "dfbuffer1 = df[df.category == 'Conceptual Art']\n",
    "dfbuffer2 = df[df.category == 'Digital Art']\n",
    "dfbuffer3 = df[df.category == 'Illustration']\n",
    "dfbuffer4 = df[df.category == 'Painting']\n",
    "dfbuffer5 = df[df.category == 'Ceramics']"
   ]
  },
  {
   "cell_type": "code",
   "execution_count": 98,
   "metadata": {
    "collapsed": false
   },
   "outputs": [],
   "source": [
    "x1 = []\n",
    "x2 = []\n",
    "x3 = []\n",
    "x4 = []\n",
    "x5 = []\n",
    "for i in dfbuffer1.Ratio:\n",
    "           x1.append(i)\n",
    "for i in dfbuffer2.Ratio:\n",
    "           x2.append(i)\n",
    "for i in dfbuffer3.Ratio:\n",
    "           x3.append(i)\n",
    "for i in dfbuffer4.Ratio:\n",
    "           x4.append(i)\n",
    "for i in dfbuffer5.Ratio:\n",
    "           x5.append(i)"
   ]
  },
  {
   "cell_type": "code",
   "execution_count": 99,
   "metadata": {
    "collapsed": false
   },
   "outputs": [],
   "source": [
    "data_to_plot = [x1, x2, x3, x4, x5]"
   ]
  },
  {
   "cell_type": "code",
   "execution_count": 100,
   "metadata": {
    "collapsed": false
   },
   "outputs": [
    {
     "data": {
      "image/png": "[encoded data removed]",
      "text/plain": [
       "<matplotlib.figure.Figure at 0xd321a58>"
      ]
     },
     "metadata": {},
     "output_type": "display_data"
    }
   ],
   "source": [
    "# Create a figure instance\n",
    "fig = plt.figure(1, figsize=(9, 6))\n",
    "\n",
    "# Create an axes instance\n",
    "ax = fig.add_subplot(111)\n",
    "\n",
    "# Create the boxplot\n",
    "bp = ax.boxplot(data_to_plot,  0,'rs',0)\n",
    "ax.set_xscale('log')"
   ]
  },
  {
   "cell_type": "markdown",
   "metadata": {
    "collapsed": false
   },
   "source": [
    "# What is the success rate for campaigns as a function of the campaign category? You may consider only successful and failed campaigns (i.e., you may ignore live, suspended, or cancelled campaigns). Comment on any trends you observe relative to success rates across different campaign categories. What is the mean pledged U.S. dollars for successful campaigns as a function of each campaign category? Which category earns the highest pledged U.S. dollars on average?"
   ]
  },
  {
   "cell_type": "code",
   "execution_count": 101,
   "metadata": {
    "collapsed": false
   },
   "outputs": [
    {
     "name": "stdout",
     "output_type": "stream",
     "text": [
      "Conceptual Art:40.5541561713%\n",
      "Mean USD pledge for succesful campaigns of this category is = 3580.38768163\n",
      "\n",
      "\n",
      "Digital Art:31.3253012048%\n",
      "Mean USD pledge for succesful campaigns of this category is = 6304.50040695\n",
      "\n",
      "\n",
      "Illustration:0%\n",
      "Mean USD pledge for succesful campaigns of this category is = 0\n",
      "\n",
      "\n",
      "Painting:0%\n",
      "Mean USD pledge for succesful campaigns of this category is = 0\n",
      "\n",
      "\n",
      "Ceramics:45.9016393443%\n",
      "Mean USD pledge for succesful campaigns of this category is = 10824.8128594\n",
      "\n",
      "\n"
     ]
    }
   ],
   "source": [
    "for i in categories:\n",
    "    x = df[(df.category == i) & (df.state == 'successful')]\n",
    "    a = float(x['state'].count())\n",
    "    MeanAvg = x['usd_pledged'].mean()\n",
    "    y = df[(df.category == i) & (df.state == 'failed')]\n",
    "    b = float(y['state'].count())\n",
    "    if a == 0:\n",
    "        print(i + ':' + str(0)+ '%')\n",
    "        print('Mean USD pledge for succesful campaigns of this category is = ' + str(0))\n",
    "    elif b == 0:\n",
    "        print(i + ':' + str(100) + '%')\n",
    "        print('Mean USD pledge for succesful campaigns of this category is = ' + str(MeanAvg))\n",
    "    else :\n",
    "        print(i + ':' + str((a/(a+b))*100) + '%')\n",
    "        print('Mean USD pledge for succesful campaigns of this category is = ' + str(MeanAvg))\n",
    "    print('\\n')"
   ]
  },
  {
   "cell_type": "code",
   "execution_count": null,
   "metadata": {
    "collapsed": true
   },
   "outputs": [],
   "source": []
  }
 ],
 "metadata": {
  "anaconda-cloud": {},
  "kernelspec": {
   "display_name": "Python [conda root]",
   "language": "python",
   "name": "conda-root-py"
  },
  "language_info": {
   "codemirror_mode": {
    "name": "ipython",
    "version": 2
   },
   "file_extension": ".py",
   "mimetype": "text/x-python",
   "name": "python",
   "nbconvert_exporter": "python",
   "pygments_lexer": "ipython2",
   "version": "2.7.12"
  }
 },
 "nbformat": 4,
 "nbformat_minor": 1
}
