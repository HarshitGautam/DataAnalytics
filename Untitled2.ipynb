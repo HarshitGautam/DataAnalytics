{
 "cells": [
  {
   "cell_type": "code",
   "execution_count": 4,
   "metadata": {},
   "outputs": [
    {
     "name": "stdout",
     "output_type": "stream",
     "text": [
      "2016-09-27T05:22 irony.json 100.0\n",
      "2016-09-28T05:22 girljson 100.0\n"
     ]
    }
   ],
   "source": [
    "from datetime import datetime\n",
    "with open(\"input.txt\") as f:\n",
    "    content = f.readlines()\n",
    "# you may also want to remove whitespace characters like `\\n` at the end of each line\n",
    "content = [x.strip() for x in content] \n",
    "pack = []\n",
    "for i in content:\n",
    "    a=[]\n",
    "    a = list(map(str, (i.split(' '))))\n",
    "    time = a[3]\n",
    "    endpoint = a[6]\n",
    "    response = a[8]\n",
    "    time = time[1:18]\n",
    "    datetime_object = datetime.strptime(time, '%d/%b/%Y:%H:%M')\n",
    "    time = str(datetime_object.date()) + \"T\" + str(datetime_object.time())[:5]\n",
    "    endpoint = endpoint.split('json')\n",
    "    endpoint = endpoint[0]+\"json\"\n",
    "    data = [time, endpoint, response]\n",
    "    pack.append(data)\n",
    "link=[]\n",
    "for i in pack:\n",
    "        if i[1] not in link:\n",
    "            link.append(i[1])\n",
    "timeList = []\n",
    "for i in pack:\n",
    "        if i[1] not in timeList:\n",
    "            timeList.append(i[0])\n",
    "n=0\n",
    "d=0\n",
    "percent = -10\n",
    "for l in link:\n",
    "    for t in timeList:\n",
    "        for p in pack:\n",
    "            if ((l == p[1]) & (t == p[0]) & (response != \"500\")):\n",
    "                n = n+1\n",
    "            if ((l==p[1]) & (t == p[0])):\n",
    "                d = d+1\n",
    "        if (d!=0):\n",
    "            percent = n/d*100\n",
    "        n = 0\n",
    "        d = 0\n",
    "        if percent >= 0:\n",
    "            print( t + \" \" + l + \" \" + str(percent))\n",
    "        percent = -10"
   ]
  },
  {
   "cell_type": "code",
   "execution_count": null,
   "metadata": {
    "collapsed": true
   },
   "outputs": [],
   "source": []
  }
 ],
 "metadata": {
  "kernelspec": {
   "display_name": "Python 3",
   "language": "python",
   "name": "python3"
  },
  "language_info": {
   "codemirror_mode": {
    "name": "ipython",
    "version": 3
   },
   "file_extension": ".py",
   "mimetype": "text/x-python",
   "name": "python",
   "nbconvert_exporter": "python",
   "pygments_lexer": "ipython3",
   "version": "3.6.3"
  }
 },
 "nbformat": 4,
 "nbformat_minor": 2
}
