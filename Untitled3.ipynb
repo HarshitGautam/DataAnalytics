{
 "cells": [
  {
   "cell_type": "code",
   "execution_count": 1,
   "metadata": {
    "collapsed": true
   },
   "outputs": [],
   "source": [
    "a = 2"
   ]
  },
  {
   "cell_type": "code",
   "execution_count": 4,
   "metadata": {
    "collapsed": false
   },
   "outputs": [
    {
     "name": "stdout",
     "output_type": "stream",
     "text": [
      "2\n"
     ]
    }
   ],
   "source": [
    "print (a)"
   ]
  },
  {
   "cell_type": "code",
   "execution_count": 7,
   "metadata": {
    "collapsed": true
   },
   "outputs": [],
   "source": [
    "arr1 = np.random.rand(100)"
   ]
  },
  {
   "cell_type": "code",
   "execution_count": 12,
   "metadata": {
    "collapsed": false
   },
   "outputs": [
    {
     "name": "stdout",
     "output_type": "stream",
     "text": [
      "[ 0.60728145  0.81102491  0.28369914  0.70716643  0.84018509  0.02105411\n",
      "  0.79926168  0.31458001  0.5953725   0.77772549  0.99262735  0.78027147\n",
      "  0.14629716  0.98190423  0.79719799  0.25688264  0.79499024  0.08388186\n",
      "  0.97029648  0.7845811   0.67735474  0.04789136  0.74241882  0.01796718\n",
      "  0.96757723  0.94287866  0.48328367  0.04710464  0.1364401   0.14919345\n",
      "  0.78322626  0.25720099  0.19059633  0.5978447   0.5433465   0.83231494\n",
      "  0.73040265  0.40068272  0.18228455  0.55673283  0.59216175  0.93990301\n",
      "  0.34446536  0.58683712  0.23462823  0.58236466  0.40833393  0.69212848\n",
      "  0.11356395  0.77985401  0.89404009  0.25527109  0.92380317  0.40175261\n",
      "  0.33443009  0.36604541  0.61709749  0.40741264  0.09713133  0.41758337\n",
      "  0.01235547  0.22563231  0.39505343  0.15641501  0.86970215  0.57462503\n",
      "  0.66768207  0.66622578  0.16363159  0.99965573  0.14692417  0.86896954\n",
      "  0.17492197  0.50727682  0.66681358  0.79474662  0.02815472  0.3854553\n",
      "  0.9563136   0.19793901  0.8938317   0.20585306  0.6760047   0.8681175\n",
      "  0.20515421  0.26389554  0.97258996  0.94895792  0.71217728  0.53946454\n",
      "  0.05155825  0.675409    0.10331565  0.66350605  0.45882133  0.96492767\n",
      "  0.79891954  0.34839424  0.31428795  0.78182215]\n"
     ]
    }
   ],
   "source": [
    "print (arr1)"
   ]
  },
  {
   "cell_type": "code",
   "execution_count": 14,
   "metadata": {
    "collapsed": true
   },
   "outputs": [],
   "source": [
    "arr2 = arr1.reshape((25,4))"
   ]
  },
  {
   "cell_type": "code",
   "execution_count": 15,
   "metadata": {
    "collapsed": false
   },
   "outputs": [
    {
     "name": "stdout",
     "output_type": "stream",
     "text": [
      "[[ 0.60728145  0.81102491  0.28369914  0.70716643]\n",
      " [ 0.84018509  0.02105411  0.79926168  0.31458001]\n",
      " [ 0.5953725   0.77772549  0.99262735  0.78027147]\n",
      " [ 0.14629716  0.98190423  0.79719799  0.25688264]\n",
      " [ 0.79499024  0.08388186  0.97029648  0.7845811 ]\n",
      " [ 0.67735474  0.04789136  0.74241882  0.01796718]\n",
      " [ 0.96757723  0.94287866  0.48328367  0.04710464]\n",
      " [ 0.1364401   0.14919345  0.78322626  0.25720099]\n",
      " [ 0.19059633  0.5978447   0.5433465   0.83231494]\n",
      " [ 0.73040265  0.40068272  0.18228455  0.55673283]\n",
      " [ 0.59216175  0.93990301  0.34446536  0.58683712]\n",
      " [ 0.23462823  0.58236466  0.40833393  0.69212848]\n",
      " [ 0.11356395  0.77985401  0.89404009  0.25527109]\n",
      " [ 0.92380317  0.40175261  0.33443009  0.36604541]\n",
      " [ 0.61709749  0.40741264  0.09713133  0.41758337]\n",
      " [ 0.01235547  0.22563231  0.39505343  0.15641501]\n",
      " [ 0.86970215  0.57462503  0.66768207  0.66622578]\n",
      " [ 0.16363159  0.99965573  0.14692417  0.86896954]\n",
      " [ 0.17492197  0.50727682  0.66681358  0.79474662]\n",
      " [ 0.02815472  0.3854553   0.9563136   0.19793901]\n",
      " [ 0.8938317   0.20585306  0.6760047   0.8681175 ]\n",
      " [ 0.20515421  0.26389554  0.97258996  0.94895792]\n",
      " [ 0.71217728  0.53946454  0.05155825  0.675409  ]\n",
      " [ 0.10331565  0.66350605  0.45882133  0.96492767]\n",
      " [ 0.79891954  0.34839424  0.31428795  0.78182215]]\n"
     ]
    }
   ],
   "source": [
    "print(arr2)"
   ]
  },
  {
   "cell_type": "code",
   "execution_count": 17,
   "metadata": {
    "collapsed": false
   },
   "outputs": [
    {
     "ename": "SyntaxError",
     "evalue": "invalid syntax (<ipython-input-17-3c0ea49cc2b4>, line 1)",
     "output_type": "error",
     "traceback": [
      "\u001b[0;36m  File \u001b[0;32m\"<ipython-input-17-3c0ea49cc2b4>\"\u001b[0;36m, line \u001b[0;32m1\u001b[0m\n\u001b[0;31m    D = {‘left’: [4, 9, 2], ‘center’: [3, 5, 7], ‘right’: [8, 1, 6]}\u001b[0m\n\u001b[0m         ^\u001b[0m\n\u001b[0;31mSyntaxError\u001b[0m\u001b[0;31m:\u001b[0m invalid syntax\n"
     ]
    }
   ],
   "source": [
    "D = {‘left’: [4, 9, 2], ‘center’: [3, 5, 7], ‘right’: [8, 1, 6]}"
   ]
  },
  {
   "cell_type": "code",
   "execution_count": 22,
   "metadata": {
    "collapsed": false
   },
   "outputs": [],
   "source": [
    "D = ([4, 9, 2],[3, 5, 7], [8, 1, 6])"
   ]
  },
  {
   "cell_type": "code",
   "execution_count": 24,
   "metadata": {
    "collapsed": false
   },
   "outputs": [
    {
     "ename": "SyntaxError",
     "evalue": "invalid syntax (<ipython-input-24-bed56714b285>, line 1)",
     "output_type": "error",
     "traceback": [
      "\u001b[0;36m  File \u001b[0;32m\"<ipython-input-24-bed56714b285>\"\u001b[0;36m, line \u001b[0;32m1\u001b[0m\n\u001b[0;31m    df = DataFrame(D, index = [‘a’, ‘b’, ‘c’])\u001b[0m\n\u001b[0m                               ^\u001b[0m\n\u001b[0;31mSyntaxError\u001b[0m\u001b[0;31m:\u001b[0m invalid syntax\n"
     ]
    }
   ],
   "source": [
    "df = DataFrame(D, index = [‘a’, ‘b’, ‘c’])"
   ]
  },
  {
   "cell_type": "code",
   "execution_count": 26,
   "metadata": {
    "collapsed": false
   },
   "outputs": [
    {
     "ename": "SyntaxError",
     "evalue": "invalid syntax (<ipython-input-26-4628a53923b8>, line 1)",
     "output_type": "error",
     "traceback": [
      "\u001b[0;36m  File \u001b[0;32m\"<ipython-input-26-4628a53923b8>\"\u001b[0;36m, line \u001b[0;32m1\u001b[0m\n\u001b[0;31m    df = DataFrame(D, [‘a’, ‘b’, ‘c’])\u001b[0m\n\u001b[0m                       ^\u001b[0m\n\u001b[0;31mSyntaxError\u001b[0m\u001b[0;31m:\u001b[0m invalid syntax\n"
     ]
    }
   ],
   "source": [
    "df = DataFrame(D, [‘a’, ‘b’, ‘c’])"
   ]
  },
  {
   "cell_type": "code",
   "execution_count": 28,
   "metadata": {
    "collapsed": false
   },
   "outputs": [
    {
     "ename": "NameError",
     "evalue": "name 'DataFrame' is not defined",
     "output_type": "error",
     "traceback": [
      "\u001b[0;31m---------------------------------------------------------------------------\u001b[0m",
      "\u001b[0;31mNameError\u001b[0m                                 Traceback (most recent call last)",
      "\u001b[0;32m<ipython-input-28-f41cdca86a6d>\u001b[0m in \u001b[0;36m<module>\u001b[0;34m()\u001b[0m\n\u001b[0;32m----> 1\u001b[0;31m \u001b[0mdf\u001b[0m \u001b[1;33m=\u001b[0m \u001b[0mDataFrame\u001b[0m\u001b[1;33m(\u001b[0m\u001b[0mD\u001b[0m\u001b[1;33m,\u001b[0m\u001b[1;33m[\u001b[0m\u001b[0ma\u001b[0m\u001b[1;33m,\u001b[0m \u001b[0mb\u001b[0m\u001b[1;33m,\u001b[0m \u001b[0mc\u001b[0m\u001b[1;33m]\u001b[0m\u001b[1;33m)\u001b[0m\u001b[1;33m\u001b[0m\u001b[0m\n\u001b[0m",
      "\u001b[0;31mNameError\u001b[0m: name 'DataFrame' is not defined"
     ]
    }
   ],
   "source": [
    "df = DataFrame(D,[a, b, c])"
   ]
  },
  {
   "cell_type": "code",
   "execution_count": 30,
   "metadata": {
    "collapsed": false
   },
   "outputs": [
    {
     "ename": "SyntaxError",
     "evalue": "invalid syntax (<ipython-input-30-7e7935031a07>, line 1)",
     "output_type": "error",
     "traceback": [
      "\u001b[0;36m  File \u001b[0;32m\"<ipython-input-30-7e7935031a07>\"\u001b[0;36m, line \u001b[0;32m1\u001b[0m\n\u001b[0;31m    D = (‘left’: [4, 9, 2], ‘center’: [3, 5, 7], ‘right’: [8, 1, 6])\u001b[0m\n\u001b[0m         ^\u001b[0m\n\u001b[0;31mSyntaxError\u001b[0m\u001b[0;31m:\u001b[0m invalid syntax\n"
     ]
    }
   ],
   "source": [
    "D = (‘left’: [4, 9, 2], ‘center’: [3, 5, 7], ‘right’: [8, 1, 6])"
   ]
  },
  {
   "cell_type": "code",
   "execution_count": 32,
   "metadata": {
    "collapsed": false
   },
   "outputs": [
    {
     "ename": "SyntaxError",
     "evalue": "invalid syntax (<ipython-input-32-543a4b570dc7>, line 1)",
     "output_type": "error",
     "traceback": [
      "\u001b[0;36m  File \u001b[0;32m\"<ipython-input-32-543a4b570dc7>\"\u001b[0;36m, line \u001b[0;32m1\u001b[0m\n\u001b[0;31m    D = ('left': [4, 9, 2],'center': [3, 5, 7], 'right': [8, 1, 6])\u001b[0m\n\u001b[0m               ^\u001b[0m\n\u001b[0;31mSyntaxError\u001b[0m\u001b[0;31m:\u001b[0m invalid syntax\n"
     ]
    }
   ],
   "source": [
    "D = ('left': [4, 9, 2],'center': [3, 5, 7], 'right': [8, 1, 6])"
   ]
  },
  {
   "cell_type": "code",
   "execution_count": 35,
   "metadata": {
    "collapsed": false
   },
   "outputs": [
    {
     "ename": "NameError",
     "evalue": "name 'DataFrame' is not defined",
     "output_type": "error",
     "traceback": [
      "\u001b[0;31m---------------------------------------------------------------------------\u001b[0m",
      "\u001b[0;31mNameError\u001b[0m                                 Traceback (most recent call last)",
      "\u001b[0;32m<ipython-input-35-4619963f20fd>\u001b[0m in \u001b[0;36m<module>\u001b[0;34m()\u001b[0m\n\u001b[0;32m----> 1\u001b[0;31m \u001b[0mdf\u001b[0m \u001b[1;33m=\u001b[0m \u001b[0mDataFrame\u001b[0m\u001b[1;33m(\u001b[0m\u001b[0mD\u001b[0m\u001b[1;33m,\u001b[0m\u001b[1;33m[\u001b[0m\u001b[1;34m'a'\u001b[0m\u001b[1;33m,\u001b[0m \u001b[1;34m'b'\u001b[0m\u001b[1;33m,\u001b[0m \u001b[1;34m'c'\u001b[0m\u001b[1;33m]\u001b[0m\u001b[1;33m)\u001b[0m\u001b[1;33m\u001b[0m\u001b[0m\n\u001b[0m",
      "\u001b[0;31mNameError\u001b[0m: name 'DataFrame' is not defined"
     ]
    }
   ],
   "source": [
    "df = DataFrame(D,['a', 'b', 'c'])"
   ]
  },
  {
   "cell_type": "code",
   "execution_count": null,
   "metadata": {
    "collapsed": true
   },
   "outputs": [],
   "source": []
  }
 ],
 "metadata": {
  "anaconda-cloud": {},
  "kernelspec": {
   "display_name": "Python [conda root]",
   "language": "python",
   "name": "conda-root-py"
  },
  "language_info": {
   "codemirror_mode": {
    "name": "ipython",
    "version": 2
   },
   "file_extension": ".py",
   "mimetype": "text/x-python",
   "name": "python",
   "nbconvert_exporter": "python",
   "pygments_lexer": "ipython2",
   "version": "2.7.12"
  }
 },
 "nbformat": 4,
 "nbformat_minor": 1
}
